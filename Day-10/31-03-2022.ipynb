{
 "cells": [
  {
   "cell_type": "code",
   "execution_count": 10,
   "id": "ced1c46e",
   "metadata": {},
   "outputs": [
    {
     "name": "stdout",
     "output_type": "stream",
     "text": [
      "1222\n",
      "1 => 1\n",
      "2 => 3\n"
     ]
    }
   ],
   "source": [
    "n = int(input())\n",
    "m = []\n",
    "while n!=0:\n",
    "    j = n%10\n",
    "    m.append(j)\n",
    "    n //=10\n",
    "m.sort()\n",
    "for k in list(set(m)):\n",
    "    print(k,'=>',m.count(k))"
   ]
  },
  {
   "cell_type": "markdown",
   "id": "9231349d",
   "metadata": {},
   "source": [
    "## Function argument and its types:\n",
    "    - Required or Positional argument\n",
    "    - Default argument\n",
    "    - Keyword argument\n",
    "    - Variable Length argument"
   ]
  },
  {
   "cell_type": "code",
   "execution_count": 11,
   "id": "735ca9fb",
   "metadata": {},
   "outputs": [
    {
     "name": "stdout",
     "output_type": "stream",
     "text": [
      "Enter Employee id: 12\n",
      "Enter Employee Name: ramu\n",
      "Entered Employee id is: 12\n",
      "Entered Employee Name is: ramu\n"
     ]
    }
   ],
   "source": [
    "# Required or positional argument\n",
    "def empdtls(eid,ename):\n",
    "    print(\"Entered Employee id is: {}\\nEntered Employee Name is: {}\"\n",
    "         .format(eid,ename))\n",
    "    return\n",
    "\n",
    "ei = int(input(\"Enter Employee id: \"))\n",
    "en = input(\"Enter Employee Name: \")\n",
    "empdtls(ei,en)"
   ]
  },
  {
   "cell_type": "code",
   "execution_count": 12,
   "id": "6d9849a1",
   "metadata": {},
   "outputs": [
    {
     "name": "stdout",
     "output_type": "stream",
     "text": [
      "Enter Employee id: 45\n",
      "Enter Employee Name: prasad\n"
     ]
    },
    {
     "ename": "TypeError",
     "evalue": "empdtls() missing 1 required positional argument: 'esal'",
     "output_type": "error",
     "traceback": [
      "\u001b[1;31m---------------------------------------------------------------------------\u001b[0m",
      "\u001b[1;31mTypeError\u001b[0m                                 Traceback (most recent call last)",
      "\u001b[1;32m<ipython-input-12-a6f7c2c2797a>\u001b[0m in \u001b[0;36m<module>\u001b[1;34m\u001b[0m\n\u001b[0;32m      6\u001b[0m \u001b[0mei\u001b[0m \u001b[1;33m=\u001b[0m \u001b[0mint\u001b[0m\u001b[1;33m(\u001b[0m\u001b[0minput\u001b[0m\u001b[1;33m(\u001b[0m\u001b[1;34m\"Enter Employee id: \"\u001b[0m\u001b[1;33m)\u001b[0m\u001b[1;33m)\u001b[0m\u001b[1;33m\u001b[0m\u001b[1;33m\u001b[0m\u001b[0m\n\u001b[0;32m      7\u001b[0m \u001b[0men\u001b[0m \u001b[1;33m=\u001b[0m \u001b[0minput\u001b[0m\u001b[1;33m(\u001b[0m\u001b[1;34m\"Enter Employee Name: \"\u001b[0m\u001b[1;33m)\u001b[0m\u001b[1;33m\u001b[0m\u001b[1;33m\u001b[0m\u001b[0m\n\u001b[1;32m----> 8\u001b[1;33m \u001b[0mempdtls\u001b[0m\u001b[1;33m(\u001b[0m\u001b[0mei\u001b[0m\u001b[1;33m,\u001b[0m\u001b[0men\u001b[0m\u001b[1;33m)\u001b[0m\u001b[1;33m\u001b[0m\u001b[1;33m\u001b[0m\u001b[0m\n\u001b[0m",
      "\u001b[1;31mTypeError\u001b[0m: empdtls() missing 1 required positional argument: 'esal'"
     ]
    }
   ],
   "source": [
    "def empdtls(eid,ename,esal):\n",
    "    print(\"Entered Employee id is: {}\\nEntered Employee Name is: {}\"\n",
    "         .format(eid,ename))\n",
    "    return\n",
    "\n",
    "ei = int(input(\"Enter Employee id: \"))\n",
    "en = input(\"Enter Employee Name: \")\n",
    "empdtls(ei,en)"
   ]
  },
  {
   "cell_type": "code",
   "execution_count": 13,
   "id": "d4fb6db1",
   "metadata": {},
   "outputs": [
    {
     "name": "stdout",
     "output_type": "stream",
     "text": [
      "Enter Employee id: 16\n",
      "Enter Employee Name: Lalitha\n",
      "Entered Employee id is: 16\n",
      "Entered Employee Name is: Lalitha\n",
      "Entered Employee Salary is: 16000\n"
     ]
    }
   ],
   "source": [
    "# Default argument\n",
    "def empdtls(eid,ename,esal=16000):\n",
    "    print(\"Entered Employee id is: {}\\nEntered Employee Name is: {}\\n\"\n",
    "    \"Entered Employee Salary is: {}\".format(eid,ename,esal))\n",
    "    return\n",
    "\n",
    "ei = int(input(\"Enter Employee id: \"))\n",
    "en = input(\"Enter Employee Name: \")\n",
    "empdtls(ei,en)"
   ]
  },
  {
   "cell_type": "code",
   "execution_count": 14,
   "id": "1e250091",
   "metadata": {},
   "outputs": [
    {
     "name": "stdout",
     "output_type": "stream",
     "text": [
      "Enter Employee id: 45\n",
      "Enter Employee Name: kumar\n",
      "Entered Employee Salary is: 25000\n",
      "Entered Employee id is: 45\n",
      "Entered Employee Name is: kumar\n",
      "Entered Employee Salary is: 25000\n"
     ]
    }
   ],
   "source": [
    "def empdtls(eid,ename,esal=16000):\n",
    "    print(\"Entered Employee id is: {}\\nEntered Employee Name is: {}\\n\"\n",
    "    \"Entered Employee Salary is: {}\".format(eid,ename,esal))\n",
    "    return\n",
    "\n",
    "ei = int(input(\"Enter Employee id: \"))\n",
    "en = input(\"Enter Employee Name: \")\n",
    "es = int(input(\"Entered Employee Salary is: \"))\n",
    "empdtls(ei,en,es)"
   ]
  },
  {
   "cell_type": "code",
   "execution_count": 15,
   "id": "000f1c35",
   "metadata": {},
   "outputs": [
    {
     "ename": "SyntaxError",
     "evalue": "non-default argument follows default argument (<ipython-input-15-06a52a4686bc>, line 1)",
     "output_type": "error",
     "traceback": [
      "\u001b[1;36m  File \u001b[1;32m\"<ipython-input-15-06a52a4686bc>\"\u001b[1;36m, line \u001b[1;32m1\u001b[0m\n\u001b[1;33m    def empdtls(eid=45,ename,esal):\u001b[0m\n\u001b[1;37m               ^\u001b[0m\n\u001b[1;31mSyntaxError\u001b[0m\u001b[1;31m:\u001b[0m non-default argument follows default argument\n"
     ]
    }
   ],
   "source": [
    "def empdtls(eid=45,ename,esal):\n",
    "    print(\"Entered Employee id is: {}\\nEntered Employee Name is: {}\\n\"\n",
    "    \"Entered Employee Salary is: {}\".format(eid,ename,esal))\n",
    "    return\n",
    "\n",
    "ei = int(input(\"Enter Employee id: \"))\n",
    "en = input(\"Enter Employee Name: \")\n",
    "empdtls(ei,en)"
   ]
  },
  {
   "cell_type": "code",
   "execution_count": 25,
   "id": "f5fd7d51",
   "metadata": {},
   "outputs": [
    {
     "name": "stdout",
     "output_type": "stream",
     "text": [
      "Enter a value: 1\n",
      "Enter a value: 2\n",
      "Addition of 1 and 2 is: 3\n"
     ]
    }
   ],
   "source": [
    "def addt(a=1,b=4,c=45):\n",
    "    print(\"Addition of {} and {} is: {}\".format(a,b,a+b))\n",
    "    return\n",
    "\n",
    "ay = int(input(\"Enter a value: \"))\n",
    "n = int(input(\"Enter a value: \"))\n",
    "addt(ay,n)"
   ]
  },
  {
   "cell_type": "code",
   "execution_count": 26,
   "id": "adc6886d",
   "metadata": {},
   "outputs": [
    {
     "name": "stdout",
     "output_type": "stream",
     "text": [
      "Roll Number: 21471F0043\n",
      "Name: ganga\n",
      "Age: 25\n"
     ]
    }
   ],
   "source": [
    "# Keyword argument\n",
    "def stdtl(rl,na,ag):\n",
    "    print(\"Roll Number: {}\\nName: {}\\nAge: {}\".format(rl,na,ag))\n",
    "    return\n",
    "\n",
    "stdtl(na='ganga',ag=25,rl='21471F0043')"
   ]
  },
  {
   "cell_type": "code",
   "execution_count": 27,
   "id": "91cd175b",
   "metadata": {},
   "outputs": [
    {
     "ename": "TypeError",
     "evalue": "stdtl() got an unexpected keyword argument 'rll'",
     "output_type": "error",
     "traceback": [
      "\u001b[1;31m---------------------------------------------------------------------------\u001b[0m",
      "\u001b[1;31mTypeError\u001b[0m                                 Traceback (most recent call last)",
      "\u001b[1;32m<ipython-input-27-03dbeb63b736>\u001b[0m in \u001b[0;36m<module>\u001b[1;34m\u001b[0m\n\u001b[0;32m      3\u001b[0m     \u001b[1;32mreturn\u001b[0m\u001b[1;33m\u001b[0m\u001b[1;33m\u001b[0m\u001b[0m\n\u001b[0;32m      4\u001b[0m \u001b[1;33m\u001b[0m\u001b[0m\n\u001b[1;32m----> 5\u001b[1;33m \u001b[0mstdtl\u001b[0m\u001b[1;33m(\u001b[0m\u001b[0mna\u001b[0m\u001b[1;33m=\u001b[0m\u001b[1;34m'ganga'\u001b[0m\u001b[1;33m,\u001b[0m\u001b[0mag\u001b[0m\u001b[1;33m=\u001b[0m\u001b[1;36m25\u001b[0m\u001b[1;33m,\u001b[0m\u001b[0mrll\u001b[0m\u001b[1;33m=\u001b[0m\u001b[1;34m'21471F0043'\u001b[0m\u001b[1;33m)\u001b[0m\u001b[1;33m\u001b[0m\u001b[1;33m\u001b[0m\u001b[0m\n\u001b[0m",
      "\u001b[1;31mTypeError\u001b[0m: stdtl() got an unexpected keyword argument 'rll'"
     ]
    }
   ],
   "source": [
    "def stdtl(rl,na,ag):\n",
    "    print(\"Roll Number: {}\\nName: {}\\nAge: {}\".format(rl,na,ag))\n",
    "    return\n",
    "\n",
    "stdtl(na='ganga',ag=25,rll='21471F0043')"
   ]
  },
  {
   "cell_type": "code",
   "execution_count": 33,
   "id": "5cbd9e05",
   "metadata": {},
   "outputs": [
    {
     "name": "stdout",
     "output_type": "stream",
     "text": [
      "{'na': 'ganga', 'ag': 25, 'rl': '21471F0043', 'per': 89} <class 'dict'>\n",
      "Roll Number: 21471F0043\n",
      "Age: 25\n"
     ]
    }
   ],
   "source": [
    "def stdtl(**hg):\n",
    "    print(hg,type(hg))\n",
    "    print(\"Roll Number: {}\".format(hg.get('rl')))\n",
    "    print(\"Age: {}\".format(hg['ag']))\n",
    "    return\n",
    "\n",
    "stdtl(na='ganga',ag=25,rl='21471F0043',per=89)"
   ]
  },
  {
   "cell_type": "code",
   "execution_count": 35,
   "id": "bedf839d",
   "metadata": {},
   "outputs": [
    {
     "name": "stdout",
     "output_type": "stream",
     "text": [
      "Roll Number: 45\n",
      "Each Subject Marks: (12, 45, 78, 89, 65, 32)\n",
      "Student Information:\n",
      "First Name: Gagan\n",
      "Mobile: 7858748578\n"
     ]
    }
   ],
   "source": [
    "# Variable Length Argument\n",
    "def stdtl(sid,*submrks,**stin):\n",
    "    print(\"Roll Number: {}\".format(sid))\n",
    "    print(\"Each Subject Marks: {}\".format(submrks))\n",
    "    print(\"Student Information:\")\n",
    "    print(\"First Name: {}\".format(stin['fname']))\n",
    "    print(\"Mobile: {}\".format(stin['mb']))\n",
    "\n",
    "stdtl(45,12,45,78,89,65,32,fname='Gagan',mb=7858748578)"
   ]
  },
  {
   "cell_type": "code",
   "execution_count": 40,
   "id": "dbf14baf",
   "metadata": {},
   "outputs": [
    {
     "ename": "SyntaxError",
     "evalue": "positional argument follows keyword argument (<ipython-input-40-06298f6b5bae>, line 9)",
     "output_type": "error",
     "traceback": [
      "\u001b[1;36m  File \u001b[1;32m\"<ipython-input-40-06298f6b5bae>\"\u001b[1;36m, line \u001b[1;32m9\u001b[0m\n\u001b[1;33m    stdtl(45,12,45,maths=45,78,89,65,32,mb=7858748578,fname='Gagan')\u001b[0m\n\u001b[1;37m                           ^\u001b[0m\n\u001b[1;31mSyntaxError\u001b[0m\u001b[1;31m:\u001b[0m positional argument follows keyword argument\n"
     ]
    }
   ],
   "source": [
    "def stdtl(sid,*submrks,**stin):\n",
    "    print(\"Roll Number: {}\".format(sid))\n",
    "    print(\"Each Subject Marks: {}\".format(submrks))\n",
    "    print(\"Student Information:\")\n",
    "    print(\"First Name: {}\".format(stin['fname']))\n",
    "    print(\"Mobile: {}\".format(stin['mb']))\n",
    "\n",
    "# stdtl(45,12,45,fname='Gagan',78,89,65,32,mb=7858748578)\n",
    "stdtl(45,12,45,maths=45,78,89,65,32,mb=7858748578,fname='Gagan')"
   ]
  },
  {
   "cell_type": "markdown",
   "id": "3d28b3b0",
   "metadata": {},
   "source": [
    "## Packages and Modules\n",
    "    - Package => folder => folder [Sub Package]\n",
    "        => N number of modules\n",
    "    - Module => .py file\n",
    "        => Variable, N number of functions, class or object or methods"
   ]
  },
  {
   "cell_type": "code",
   "execution_count": 1,
   "id": "6a5ef0cb",
   "metadata": {},
   "outputs": [],
   "source": [
    "from DataFiles import sample"
   ]
  },
  {
   "cell_type": "code",
   "execution_count": 2,
   "id": "4fba545d",
   "metadata": {},
   "outputs": [
    {
     "name": "stdout",
     "output_type": "stream",
     "text": [
      "['__builtins__', '__cached__', '__doc__', '__file__', '__loader__', '__name__', '__package__', '__spec__', 'su', 't']\n"
     ]
    }
   ],
   "source": [
    "print(dir(sample))"
   ]
  },
  {
   "cell_type": "code",
   "execution_count": 43,
   "id": "34f6b89a",
   "metadata": {},
   "outputs": [
    {
     "name": "stdout",
     "output_type": "stream",
     "text": [
      "45\n"
     ]
    }
   ],
   "source": [
    "print(sample.t)"
   ]
  },
  {
   "cell_type": "code",
   "execution_count": 44,
   "id": "a37b992d",
   "metadata": {},
   "outputs": [
    {
     "name": "stdout",
     "output_type": "stream",
     "text": [
      "45\n"
     ]
    }
   ],
   "source": [
    "from DataFiles.sample import t\n",
    "print(t)"
   ]
  },
  {
   "cell_type": "code",
   "execution_count": 5,
   "id": "63ac4de4",
   "metadata": {},
   "outputs": [
    {
     "name": "stdout",
     "output_type": "stream",
     "text": [
      "4\n"
     ]
    }
   ],
   "source": [
    "print(sample.su(5,1))"
   ]
  },
  {
   "cell_type": "code",
   "execution_count": 6,
   "id": "d730bba0",
   "metadata": {},
   "outputs": [],
   "source": [
    "from DataFiles import *"
   ]
  },
  {
   "cell_type": "code",
   "execution_count": 7,
   "id": "e0428691",
   "metadata": {},
   "outputs": [],
   "source": [
    "from DataFiles import sample,Data"
   ]
  },
  {
   "cell_type": "code",
   "execution_count": 8,
   "id": "72f6eb6a",
   "metadata": {},
   "outputs": [
    {
     "name": "stdout",
     "output_type": "stream",
     "text": [
      "['__builtins__', '__cached__', '__doc__', '__file__', '__loader__', '__name__', '__package__', '__spec__', 'add']\n"
     ]
    }
   ],
   "source": [
    "print(dir(Data))"
   ]
  },
  {
   "cell_type": "code",
   "execution_count": 9,
   "id": "1d9042dc",
   "metadata": {},
   "outputs": [
    {
     "name": "stdout",
     "output_type": "stream",
     "text": [
      "['__builtins__', '__cached__', '__doc__', '__file__', '__loader__', '__name__', '__package__', '__spec__', 'su', 't']\n"
     ]
    }
   ],
   "source": [
    "print(dir(sample))"
   ]
  },
  {
   "cell_type": "code",
   "execution_count": 13,
   "id": "938a5d47",
   "metadata": {},
   "outputs": [],
   "source": [
    "from DataFiles import Data as d"
   ]
  },
  {
   "cell_type": "code",
   "execution_count": 14,
   "id": "01bcdb49",
   "metadata": {},
   "outputs": [
    {
     "name": "stdout",
     "output_type": "stream",
     "text": [
      "Entered First Number is: 12\n",
      "SEcond Number is: 5\n",
      "Output is: 17\n",
      "None\n"
     ]
    }
   ],
   "source": [
    "print(d.add(12,5))"
   ]
  },
  {
   "cell_type": "code",
   "execution_count": 15,
   "id": "f8cb38b6",
   "metadata": {},
   "outputs": [
    {
     "name": "stdout",
     "output_type": "stream",
     "text": [
      "This is from Demo File outside of package\n"
     ]
    }
   ],
   "source": [
    "import demo"
   ]
  },
  {
   "cell_type": "code",
   "execution_count": 17,
   "id": "60b45938",
   "metadata": {},
   "outputs": [],
   "source": [
    "import math"
   ]
  },
  {
   "cell_type": "code",
   "execution_count": 18,
   "id": "58b24236",
   "metadata": {},
   "outputs": [
    {
     "name": "stdout",
     "output_type": "stream",
     "text": [
      "['__doc__', '__loader__', '__name__', '__package__', '__spec__', 'acos', 'acosh', 'asin', 'asinh', 'atan', 'atan2', 'atanh', 'ceil', 'copysign', 'cos', 'cosh', 'degrees', 'e', 'erf', 'erfc', 'exp', 'expm1', 'fabs', 'factorial', 'floor', 'fmod', 'frexp', 'fsum', 'gamma', 'gcd', 'hypot', 'inf', 'isclose', 'isfinite', 'isinf', 'isnan', 'ldexp', 'lgamma', 'log', 'log10', 'log1p', 'log2', 'modf', 'nan', 'pi', 'pow', 'radians', 'remainder', 'sin', 'sinh', 'sqrt', 'tan', 'tanh', 'tau', 'trunc']\n"
     ]
    }
   ],
   "source": [
    "print(dir(math))"
   ]
  },
  {
   "cell_type": "code",
   "execution_count": 22,
   "id": "199d84cc",
   "metadata": {},
   "outputs": [
    {
     "name": "stdout",
     "output_type": "stream",
     "text": [
      "4.898979485566356\n",
      "120\n"
     ]
    }
   ],
   "source": [
    "print(math.sqrt(24))\n",
    "print(math.factorial(5))"
   ]
  },
  {
   "cell_type": "code",
   "execution_count": 23,
   "id": "5c5ab55b",
   "metadata": {},
   "outputs": [],
   "source": [
    "import random as r"
   ]
  },
  {
   "cell_type": "code",
   "execution_count": 24,
   "id": "4e88ffe7",
   "metadata": {},
   "outputs": [
    {
     "name": "stdout",
     "output_type": "stream",
     "text": [
      "['BPF', 'LOG4', 'NV_MAGICCONST', 'RECIP_BPF', 'Random', 'SG_MAGICCONST', 'SystemRandom', 'TWOPI', '_BuiltinMethodType', '_MethodType', '_Sequence', '_Set', '__all__', '__builtins__', '__cached__', '__doc__', '__file__', '__loader__', '__name__', '__package__', '__spec__', '_acos', '_bisect', '_ceil', '_cos', '_e', '_exp', '_inst', '_itertools', '_log', '_os', '_pi', '_random', '_sha512', '_sin', '_sqrt', '_test', '_test_generator', '_urandom', '_warn', 'betavariate', 'choice', 'choices', 'expovariate', 'gammavariate', 'gauss', 'getrandbits', 'getstate', 'lognormvariate', 'normalvariate', 'paretovariate', 'randint', 'random', 'randrange', 'sample', 'seed', 'setstate', 'shuffle', 'triangular', 'uniform', 'vonmisesvariate', 'weibullvariate']\n"
     ]
    }
   ],
   "source": [
    "print(dir(random))"
   ]
  },
  {
   "cell_type": "code",
   "execution_count": 30,
   "id": "41e76980",
   "metadata": {},
   "outputs": [
    {
     "name": "stdout",
     "output_type": "stream",
     "text": [
      "5\n"
     ]
    }
   ],
   "source": [
    "print(r.randint(0,10))"
   ]
  },
  {
   "cell_type": "code",
   "execution_count": 32,
   "id": "91ae27d6",
   "metadata": {},
   "outputs": [
    {
     "name": "stdout",
     "output_type": "stream",
     "text": [
      "0.21024666758344945\n"
     ]
    }
   ],
   "source": [
    "print(r.random())"
   ]
  },
  {
   "cell_type": "code",
   "execution_count": 50,
   "id": "54d6b35a",
   "metadata": {},
   "outputs": [
    {
     "name": "stdout",
     "output_type": "stream",
     "text": [
      "43\n"
     ]
    }
   ],
   "source": [
    "print(r.randrange(100))"
   ]
  },
  {
   "cell_type": "code",
   "execution_count": 51,
   "id": "7fc74532",
   "metadata": {},
   "outputs": [
    {
     "name": "stdout",
     "output_type": "stream",
     "text": [
      "['__doc__', '__loader__', '__name__', '__package__', '__spec__', 'acos', 'acosh', 'asin', 'asinh', 'atan', 'atan2', 'atanh', 'ceil', 'copysign', 'cos', 'cosh', 'degrees', 'e', 'erf', 'erfc', 'exp', 'expm1', 'fabs', 'factorial', 'floor', 'fmod', 'frexp', 'fsum', 'gamma', 'gcd', 'hypot', 'inf', 'isclose', 'isfinite', 'isinf', 'isnan', 'ldexp', 'lgamma', 'log', 'log10', 'log1p', 'log2', 'modf', 'nan', 'pi', 'pow', 'radians', 'remainder', 'sin', 'sinh', 'sqrt', 'tan', 'tanh', 'tau', 'trunc']\n"
     ]
    }
   ],
   "source": [
    "print(dir(math))"
   ]
  },
  {
   "cell_type": "code",
   "execution_count": 52,
   "id": "4f20ff74",
   "metadata": {},
   "outputs": [
    {
     "ename": "AttributeError",
     "evalue": "module 'math' has no attribute 'add'",
     "output_type": "error",
     "traceback": [
      "\u001b[1;31m---------------------------------------------------------------------------\u001b[0m",
      "\u001b[1;31mAttributeError\u001b[0m                            Traceback (most recent call last)",
      "\u001b[1;32m<ipython-input-52-c8f8aa2bebb0>\u001b[0m in \u001b[0;36m<module>\u001b[1;34m\u001b[0m\n\u001b[1;32m----> 1\u001b[1;33m \u001b[0mprint\u001b[0m\u001b[1;33m(\u001b[0m\u001b[0mmath\u001b[0m\u001b[1;33m.\u001b[0m\u001b[0madd\u001b[0m\u001b[1;33m(\u001b[0m\u001b[1;36m2\u001b[0m\u001b[1;33m,\u001b[0m\u001b[1;36m3\u001b[0m\u001b[1;33m)\u001b[0m\u001b[1;33m)\u001b[0m\u001b[1;33m\u001b[0m\u001b[1;33m\u001b[0m\u001b[0m\n\u001b[0m",
      "\u001b[1;31mAttributeError\u001b[0m: module 'math' has no attribute 'add'"
     ]
    }
   ],
   "source": [
    "print(math.add(2,3))"
   ]
  },
  {
   "cell_type": "code",
   "execution_count": 56,
   "id": "a62b7882",
   "metadata": {},
   "outputs": [
    {
     "name": "stdout",
     "output_type": "stream",
     "text": [
      "Entered First Number is: 2\n",
      "SEcond Number is: 3\n",
      "Output is: 5\n"
     ]
    }
   ],
   "source": [
    "Data.add(2,3)"
   ]
  },
  {
   "cell_type": "code",
   "execution_count": 59,
   "id": "1838c29e",
   "metadata": {},
   "outputs": [],
   "source": [
    "cnt = {}"
   ]
  },
  {
   "cell_type": "code",
   "execution_count": 68,
   "id": "95900705",
   "metadata": {},
   "outputs": [],
   "source": [
    "def ischk(name):\n",
    "    for i in cnt:\n",
    "        if i == name:\n",
    "            return True\n",
    "    return False\n",
    "\n",
    "def crcnt(nam):\n",
    "    if ischk(nam) == False:\n",
    "        mb = input(\"Enter your Mobile Number: \")\n",
    "        if len(mb) == 10:\n",
    "            cnt[nam] = mb\n",
    "        else:\n",
    "            print(\"Mobile Number Doesnt have 10 digits\")\n",
    "    else:\n",
    "        print(\"{} Already Exists in Contact List\".format(na))\n",
    "    return"
   ]
  },
  {
   "cell_type": "code",
   "execution_count": 71,
   "id": "7ca4bc8c",
   "metadata": {},
   "outputs": [
    {
     "name": "stdout",
     "output_type": "stream",
     "text": [
      "1. Create Contact\n",
      "2. Update Contact\n",
      "3. Delete Contact\n",
      "4. View Contact\n",
      "5. View All Contacts\n",
      "Select your option: 2\n",
      "Selected Second option\n"
     ]
    }
   ],
   "source": [
    "print('1. Create Contact\\n2. Update Contact\\n3. Delete Contact\\n'\n",
    "     '4. View Contact\\n5. View All Contacts')\n",
    "op = int(input(\"Select your option: \"))\n",
    "if op == 1:\n",
    "    na = input(\"Enter your name: \")\n",
    "    crcnt(na)\n",
    "elif op == 2:\n",
    "    print(\"Selected Second option\")\n",
    "else:\n",
    "    print(\"Invalid option\")"
   ]
  },
  {
   "cell_type": "code",
   "execution_count": 66,
   "id": "402e3409",
   "metadata": {},
   "outputs": [
    {
     "data": {
      "text/plain": [
       "{'ramesh': '7898574857', 'somu': '8785748574'}"
      ]
     },
     "execution_count": 66,
     "metadata": {},
     "output_type": "execute_result"
    }
   ],
   "source": [
    "cnt"
   ]
  },
  {
   "cell_type": "code",
   "execution_count": null,
   "id": "a1c38922",
   "metadata": {},
   "outputs": [],
   "source": []
  }
 ],
 "metadata": {
  "kernelspec": {
   "display_name": "Python 3",
   "language": "python",
   "name": "python3"
  },
  "language_info": {
   "codemirror_mode": {
    "name": "ipython",
    "version": 3
   },
   "file_extension": ".py",
   "mimetype": "text/x-python",
   "name": "python",
   "nbconvert_exporter": "python",
   "pygments_lexer": "ipython3",
   "version": "3.7.5"
  }
 },
 "nbformat": 4,
 "nbformat_minor": 5
}
