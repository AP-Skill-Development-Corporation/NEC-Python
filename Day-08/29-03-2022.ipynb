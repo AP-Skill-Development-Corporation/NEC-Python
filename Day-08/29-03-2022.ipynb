{
 "cells": [
  {
   "cell_type": "code",
   "execution_count": 5,
   "id": "84185d33",
   "metadata": {},
   "outputs": [
    {
     "name": "stdout",
     "output_type": "stream",
     "text": [
      "[12, 78, 56, 89, 45, 125, 456, 78, 78]\n"
     ]
    }
   ],
   "source": [
    "h = [12,78,56,89,45,125,456,78,78]\n",
    "print(h)"
   ]
  },
  {
   "cell_type": "code",
   "execution_count": 2,
   "id": "56763b98",
   "metadata": {},
   "outputs": [
    {
     "name": "stdout",
     "output_type": "stream",
     "text": [
      "['__add__', '__class__', '__contains__', '__delattr__', '__delitem__', '__dir__', '__doc__', '__eq__', '__format__', '__ge__', '__getattribute__', '__getitem__', '__gt__', '__hash__', '__iadd__', '__imul__', '__init__', '__init_subclass__', '__iter__', '__le__', '__len__', '__lt__', '__mul__', '__ne__', '__new__', '__reduce__', '__reduce_ex__', '__repr__', '__reversed__', '__rmul__', '__setattr__', '__setitem__', '__sizeof__', '__str__', '__subclasshook__', 'append', 'clear', 'copy', 'count', 'extend', 'index', 'insert', 'pop', 'remove', 'reverse', 'sort']\n"
     ]
    }
   ],
   "source": [
    "print(dir(list))"
   ]
  },
  {
   "cell_type": "code",
   "execution_count": 4,
   "id": "724e4485",
   "metadata": {},
   "outputs": [
    {
     "name": "stdout",
     "output_type": "stream",
     "text": [
      "[12, 78, 56, 89, 45, 125, 456, 78, 78]\n",
      "3\n"
     ]
    }
   ],
   "source": [
    "print(h)\n",
    "t = h.count(78)\n",
    "print(t)"
   ]
  },
  {
   "cell_type": "code",
   "execution_count": 5,
   "id": "5a36b7db",
   "metadata": {},
   "outputs": [
    {
     "name": "stdout",
     "output_type": "stream",
     "text": [
      "[12, 78, 56, 89, 45, 125, 456, 78, 78]\n",
      "0\n"
     ]
    }
   ],
   "source": [
    "print(h)\n",
    "t = h.count(200)\n",
    "print(t)"
   ]
  },
  {
   "cell_type": "code",
   "execution_count": 6,
   "id": "b86ff131",
   "metadata": {},
   "outputs": [
    {
     "name": "stdout",
     "output_type": "stream",
     "text": [
      "[12, 78, 56, 89, 45, 125, 456, 78, 78]\n",
      "[12, 78, 56, 89, 45, 125, 456, 78, 78]\n"
     ]
    }
   ],
   "source": [
    "print(h)\n",
    "t = h.copy()\n",
    "print(t)"
   ]
  },
  {
   "cell_type": "code",
   "execution_count": 7,
   "id": "50f3441c",
   "metadata": {},
   "outputs": [
    {
     "name": "stdout",
     "output_type": "stream",
     "text": [
      "[12, 78, 56, 89, 45, 125, 456, 78, 78]\n",
      "[12, 78, 56, 89, 45, 125, 456, 78, 78]\n",
      "[12, 78, 56, 89, 45, 125, 456, 78, 78, 255]\n",
      "[12, 78, 56, 89, 45, 125, 456, 78, 78]\n"
     ]
    }
   ],
   "source": [
    "print(h)\n",
    "print(t)\n",
    "t.append(255)\n",
    "print(t)\n",
    "print(h)"
   ]
  },
  {
   "cell_type": "code",
   "execution_count": 8,
   "id": "c8c8e6f5",
   "metadata": {},
   "outputs": [
    {
     "name": "stdout",
     "output_type": "stream",
     "text": [
      "[12, 78, 56, 89, 45, 125, 456, 78, 78]\n"
     ]
    },
    {
     "ename": "ValueError",
     "evalue": "800 is not in list",
     "output_type": "error",
     "traceback": [
      "\u001b[1;31m---------------------------------------------------------------------------\u001b[0m",
      "\u001b[1;31mValueError\u001b[0m                                Traceback (most recent call last)",
      "\u001b[1;32m<ipython-input-8-d3b575b8114e>\u001b[0m in \u001b[0;36m<module>\u001b[1;34m\u001b[0m\n\u001b[0;32m      1\u001b[0m \u001b[0mprint\u001b[0m\u001b[1;33m(\u001b[0m\u001b[0mh\u001b[0m\u001b[1;33m)\u001b[0m\u001b[1;33m\u001b[0m\u001b[1;33m\u001b[0m\u001b[0m\n\u001b[1;32m----> 2\u001b[1;33m \u001b[0mt\u001b[0m \u001b[1;33m=\u001b[0m \u001b[0mh\u001b[0m\u001b[1;33m.\u001b[0m\u001b[0mindex\u001b[0m\u001b[1;33m(\u001b[0m\u001b[1;36m800\u001b[0m\u001b[1;33m)\u001b[0m\u001b[1;33m\u001b[0m\u001b[1;33m\u001b[0m\u001b[0m\n\u001b[0m\u001b[0;32m      3\u001b[0m \u001b[0mprint\u001b[0m\u001b[1;33m(\u001b[0m\u001b[0mt\u001b[0m\u001b[1;33m)\u001b[0m\u001b[1;33m\u001b[0m\u001b[1;33m\u001b[0m\u001b[0m\n",
      "\u001b[1;31mValueError\u001b[0m: 800 is not in list"
     ]
    }
   ],
   "source": [
    "print(h)\n",
    "t = h.index(800)\n",
    "print(t)"
   ]
  },
  {
   "cell_type": "code",
   "execution_count": 10,
   "id": "507d8b54",
   "metadata": {},
   "outputs": [
    {
     "name": "stdout",
     "output_type": "stream",
     "text": [
      "[12, 78, 56, 89, 45, 125, 456, 78, 78]\n",
      "3\n"
     ]
    }
   ],
   "source": [
    "print(h)\n",
    "t = h.index(89)\n",
    "print(t)"
   ]
  },
  {
   "cell_type": "code",
   "execution_count": 11,
   "id": "f4370858",
   "metadata": {},
   "outputs": [
    {
     "name": "stdout",
     "output_type": "stream",
     "text": [
      "[12, 78, 56, 89, 45, 125, 456, 78, 78]\n",
      "[12, 78, 56, 89, 45, 125, 456, 78]\n"
     ]
    }
   ],
   "source": [
    "print(h)\n",
    "h.pop()\n",
    "print(h)"
   ]
  },
  {
   "cell_type": "code",
   "execution_count": 12,
   "id": "630aee16",
   "metadata": {},
   "outputs": [
    {
     "name": "stdout",
     "output_type": "stream",
     "text": [
      "[12, 78, 56, 89, 45, 125, 456, 78]\n"
     ]
    },
    {
     "ename": "IndexError",
     "evalue": "pop index out of range",
     "output_type": "error",
     "traceback": [
      "\u001b[1;31m---------------------------------------------------------------------------\u001b[0m",
      "\u001b[1;31mIndexError\u001b[0m                                Traceback (most recent call last)",
      "\u001b[1;32m<ipython-input-12-904b6f9d1501>\u001b[0m in \u001b[0;36m<module>\u001b[1;34m\u001b[0m\n\u001b[0;32m      1\u001b[0m \u001b[0mprint\u001b[0m\u001b[1;33m(\u001b[0m\u001b[0mh\u001b[0m\u001b[1;33m)\u001b[0m\u001b[1;33m\u001b[0m\u001b[1;33m\u001b[0m\u001b[0m\n\u001b[1;32m----> 2\u001b[1;33m \u001b[0mh\u001b[0m\u001b[1;33m.\u001b[0m\u001b[0mpop\u001b[0m\u001b[1;33m(\u001b[0m\u001b[1;36m56\u001b[0m\u001b[1;33m)\u001b[0m\u001b[1;33m\u001b[0m\u001b[1;33m\u001b[0m\u001b[0m\n\u001b[0m\u001b[0;32m      3\u001b[0m \u001b[0mprint\u001b[0m\u001b[1;33m(\u001b[0m\u001b[0mh\u001b[0m\u001b[1;33m)\u001b[0m\u001b[1;33m\u001b[0m\u001b[1;33m\u001b[0m\u001b[0m\n",
      "\u001b[1;31mIndexError\u001b[0m: pop index out of range"
     ]
    }
   ],
   "source": [
    "print(h)\n",
    "h.pop(56)\n",
    "print(h)"
   ]
  },
  {
   "cell_type": "code",
   "execution_count": 13,
   "id": "3d8c9a32",
   "metadata": {},
   "outputs": [
    {
     "name": "stdout",
     "output_type": "stream",
     "text": [
      "[12, 78, 56, 89, 45, 125, 456, 78]\n",
      "[12, 78, 89, 45, 125, 456, 78]\n"
     ]
    }
   ],
   "source": [
    "print(h)\n",
    "h.pop(2)\n",
    "print(h)"
   ]
  },
  {
   "cell_type": "code",
   "execution_count": 6,
   "id": "9ad6d9fc",
   "metadata": {},
   "outputs": [
    {
     "name": "stdout",
     "output_type": "stream",
     "text": [
      "[12, 78, 56, 89, 45, 125, 456, 78, 78]\n"
     ]
    },
    {
     "ename": "TypeError",
     "evalue": "remove() takes exactly one argument (0 given)",
     "output_type": "error",
     "traceback": [
      "\u001b[1;31m---------------------------------------------------------------------------\u001b[0m",
      "\u001b[1;31mTypeError\u001b[0m                                 Traceback (most recent call last)",
      "\u001b[1;32m<ipython-input-6-3b83f724aa61>\u001b[0m in \u001b[0;36m<module>\u001b[1;34m\u001b[0m\n\u001b[0;32m      1\u001b[0m \u001b[0mprint\u001b[0m\u001b[1;33m(\u001b[0m\u001b[0mh\u001b[0m\u001b[1;33m)\u001b[0m\u001b[1;33m\u001b[0m\u001b[1;33m\u001b[0m\u001b[0m\n\u001b[1;32m----> 2\u001b[1;33m \u001b[0mh\u001b[0m\u001b[1;33m.\u001b[0m\u001b[0mremove\u001b[0m\u001b[1;33m(\u001b[0m\u001b[1;33m)\u001b[0m\u001b[1;33m\u001b[0m\u001b[1;33m\u001b[0m\u001b[0m\n\u001b[0m\u001b[0;32m      3\u001b[0m \u001b[0mprint\u001b[0m\u001b[1;33m(\u001b[0m\u001b[0mh\u001b[0m\u001b[1;33m)\u001b[0m\u001b[1;33m\u001b[0m\u001b[1;33m\u001b[0m\u001b[0m\n",
      "\u001b[1;31mTypeError\u001b[0m: remove() takes exactly one argument (0 given)"
     ]
    }
   ],
   "source": [
    "print(h)\n",
    "h.remove()\n",
    "print(h)"
   ]
  },
  {
   "cell_type": "code",
   "execution_count": 7,
   "id": "47433323",
   "metadata": {},
   "outputs": [
    {
     "name": "stdout",
     "output_type": "stream",
     "text": [
      "[12, 78, 56, 89, 45, 125, 456, 78, 78]\n"
     ]
    },
    {
     "ename": "ValueError",
     "evalue": "list.remove(x): x not in list",
     "output_type": "error",
     "traceback": [
      "\u001b[1;31m---------------------------------------------------------------------------\u001b[0m",
      "\u001b[1;31mValueError\u001b[0m                                Traceback (most recent call last)",
      "\u001b[1;32m<ipython-input-7-a52a6974ed88>\u001b[0m in \u001b[0;36m<module>\u001b[1;34m\u001b[0m\n\u001b[0;32m      1\u001b[0m \u001b[0mprint\u001b[0m\u001b[1;33m(\u001b[0m\u001b[0mh\u001b[0m\u001b[1;33m)\u001b[0m\u001b[1;33m\u001b[0m\u001b[1;33m\u001b[0m\u001b[0m\n\u001b[1;32m----> 2\u001b[1;33m \u001b[0mh\u001b[0m\u001b[1;33m.\u001b[0m\u001b[0mremove\u001b[0m\u001b[1;33m(\u001b[0m\u001b[1;36m200\u001b[0m\u001b[1;33m)\u001b[0m\u001b[1;33m\u001b[0m\u001b[1;33m\u001b[0m\u001b[0m\n\u001b[0m\u001b[0;32m      3\u001b[0m \u001b[0mprint\u001b[0m\u001b[1;33m(\u001b[0m\u001b[0mh\u001b[0m\u001b[1;33m)\u001b[0m\u001b[1;33m\u001b[0m\u001b[1;33m\u001b[0m\u001b[0m\n",
      "\u001b[1;31mValueError\u001b[0m: list.remove(x): x not in list"
     ]
    }
   ],
   "source": [
    "print(h)\n",
    "h.remove(200)\n",
    "print(h)"
   ]
  },
  {
   "cell_type": "code",
   "execution_count": 16,
   "id": "324af95e",
   "metadata": {},
   "outputs": [
    {
     "name": "stdout",
     "output_type": "stream",
     "text": [
      "[12, 78, 89, 45, 125, 456, 78]\n",
      "[12, 78, 45, 125, 456, 78]\n"
     ]
    }
   ],
   "source": [
    "print(h)\n",
    "h.remove(89)\n",
    "print(h)"
   ]
  },
  {
   "cell_type": "code",
   "execution_count": 18,
   "id": "82b958e2",
   "metadata": {},
   "outputs": [
    {
     "name": "stdout",
     "output_type": "stream",
     "text": [
      "[12, 78, 45, 125, 456, 78]\n"
     ]
    },
    {
     "ename": "TypeError",
     "evalue": "'list' object cannot be interpreted as an integer",
     "output_type": "error",
     "traceback": [
      "\u001b[1;31m---------------------------------------------------------------------------\u001b[0m",
      "\u001b[1;31mTypeError\u001b[0m                                 Traceback (most recent call last)",
      "\u001b[1;32m<ipython-input-18-a9e37552371d>\u001b[0m in \u001b[0;36m<module>\u001b[1;34m\u001b[0m\n\u001b[0;32m      1\u001b[0m \u001b[0mprint\u001b[0m\u001b[1;33m(\u001b[0m\u001b[0mh\u001b[0m\u001b[1;33m)\u001b[0m\u001b[1;33m\u001b[0m\u001b[1;33m\u001b[0m\u001b[0m\n\u001b[1;32m----> 2\u001b[1;33m \u001b[0mh\u001b[0m\u001b[1;33m.\u001b[0m\u001b[0mpop\u001b[0m\u001b[1;33m(\u001b[0m\u001b[1;33m[\u001b[0m\u001b[1;36m45\u001b[0m\u001b[1;33m,\u001b[0m\u001b[1;36m125\u001b[0m\u001b[1;33m]\u001b[0m\u001b[1;33m)\u001b[0m\u001b[1;33m\u001b[0m\u001b[1;33m\u001b[0m\u001b[0m\n\u001b[0m\u001b[0;32m      3\u001b[0m \u001b[0mprint\u001b[0m\u001b[1;33m(\u001b[0m\u001b[0mh\u001b[0m\u001b[1;33m)\u001b[0m\u001b[1;33m\u001b[0m\u001b[1;33m\u001b[0m\u001b[0m\n",
      "\u001b[1;31mTypeError\u001b[0m: 'list' object cannot be interpreted as an integer"
     ]
    }
   ],
   "source": [
    "print(h)\n",
    "h.pop([45,125])\n",
    "print(h)"
   ]
  },
  {
   "cell_type": "code",
   "execution_count": 1,
   "id": "caef8dfd",
   "metadata": {},
   "outputs": [
    {
     "name": "stdout",
     "output_type": "stream",
     "text": [
      "enter a 5 digit number: 12745\n",
      "the sum of even numbers=6\n",
      "the sum of odd numbers=13\n"
     ]
    }
   ],
   "source": [
    "n=int(input('enter a number: '))\n",
    "evensum,oddsum = 0,0\n",
    "while n!=0:\n",
    "    r=n%10\n",
    "    if r%2==0:\n",
    "        evensum=evensum+r\n",
    "    else:\n",
    "        oddsum=oddsum+r\n",
    "    n //= 10\n",
    "\n",
    "print('the sum of even numbers = {}'.format(evensum))\n",
    "print('the sum of odd numbers = {}'.format(oddsum))"
   ]
  },
  {
   "cell_type": "code",
   "execution_count": 8,
   "id": "018e1a6c",
   "metadata": {},
   "outputs": [
    {
     "name": "stdout",
     "output_type": "stream",
     "text": [
      "[12, 78, 56, 89, 45, 125, 456, 78, 78]\n",
      "[78, 78, 456, 125, 45, 89, 56, 78, 12]\n"
     ]
    }
   ],
   "source": [
    "print(h)\n",
    "h.reverse()\n",
    "print(h)"
   ]
  },
  {
   "cell_type": "code",
   "execution_count": 9,
   "id": "22073f56",
   "metadata": {},
   "outputs": [
    {
     "name": "stdout",
     "output_type": "stream",
     "text": [
      "[78, 78, 456, 125, 45, 89, 56, 78, 12]\n",
      "[12, 45, 56, 78, 78, 78, 89, 125, 456]\n"
     ]
    }
   ],
   "source": [
    "print(h)\n",
    "h.sort()\n",
    "print(h)"
   ]
  },
  {
   "cell_type": "code",
   "execution_count": 10,
   "id": "6b13fc9e",
   "metadata": {},
   "outputs": [
    {
     "name": "stdout",
     "output_type": "stream",
     "text": [
      "[12, 45, 56, 78, 78, 78, 89, 125, 456]\n",
      "[456, 125, 89, 78, 78, 78, 56, 45, 12]\n"
     ]
    }
   ],
   "source": [
    "print(h)\n",
    "h.sort(reverse=True)\n",
    "print(h)"
   ]
  },
  {
   "cell_type": "code",
   "execution_count": 11,
   "id": "a60907a1",
   "metadata": {},
   "outputs": [
    {
     "name": "stdout",
     "output_type": "stream",
     "text": [
      "[456, 125, 89, 78, 78, 78, 56, 45, 12]\n",
      "[]\n"
     ]
    }
   ],
   "source": [
    "print(h)\n",
    "h.clear()\n",
    "print(h)"
   ]
  },
  {
   "cell_type": "code",
   "execution_count": 12,
   "id": "6dd4d1f4",
   "metadata": {},
   "outputs": [],
   "source": [
    "d = [45,78,35,4,54,35,435,4,35]"
   ]
  },
  {
   "cell_type": "code",
   "execution_count": 13,
   "id": "f945ec28",
   "metadata": {},
   "outputs": [
    {
     "name": "stdout",
     "output_type": "stream",
     "text": [
      "[45, 78, 35, 4, 54, 35, 435, 4, 35]\n"
     ]
    }
   ],
   "source": [
    "print(d)"
   ]
  },
  {
   "cell_type": "code",
   "execution_count": 14,
   "id": "03e6f433",
   "metadata": {},
   "outputs": [],
   "source": [
    "del d"
   ]
  },
  {
   "cell_type": "code",
   "execution_count": 15,
   "id": "bb8a5403",
   "metadata": {},
   "outputs": [
    {
     "ename": "NameError",
     "evalue": "name 'd' is not defined",
     "output_type": "error",
     "traceback": [
      "\u001b[1;31m---------------------------------------------------------------------------\u001b[0m",
      "\u001b[1;31mNameError\u001b[0m                                 Traceback (most recent call last)",
      "\u001b[1;32m<ipython-input-15-85549cb1de5f>\u001b[0m in \u001b[0;36m<module>\u001b[1;34m\u001b[0m\n\u001b[1;32m----> 1\u001b[1;33m \u001b[0mprint\u001b[0m\u001b[1;33m(\u001b[0m\u001b[0md\u001b[0m\u001b[1;33m)\u001b[0m\u001b[1;33m\u001b[0m\u001b[1;33m\u001b[0m\u001b[0m\n\u001b[0m",
      "\u001b[1;31mNameError\u001b[0m: name 'd' is not defined"
     ]
    }
   ],
   "source": [
    "print(d)"
   ]
  },
  {
   "cell_type": "markdown",
   "id": "b86594c9",
   "metadata": {},
   "source": [
    "## Tuple:\n",
    "    - It can be represented as \"()\"\n",
    "    - It can be typecasted as tuple()\n",
    "    - It can stores the data in ordered format\n",
    "    - It can't changes the values\n",
    "    - Slicing can be done because of index \n",
    "    - Duplicates can be allowed"
   ]
  },
  {
   "cell_type": "code",
   "execution_count": 19,
   "id": "ebc085ac",
   "metadata": {},
   "outputs": [
    {
     "name": "stdout",
     "output_type": "stream",
     "text": [
      "(12, 45.06112, 'kumar', True, '45', 12, 12) <class 'tuple'>\n"
     ]
    }
   ],
   "source": [
    "p = (12,45.06112,'kumar',True,'45',12,12)\n",
    "print(p,type(p))"
   ]
  },
  {
   "cell_type": "code",
   "execution_count": 20,
   "id": "506ce106",
   "metadata": {},
   "outputs": [
    {
     "name": "stdout",
     "output_type": "stream",
     "text": [
      "kumar\n",
      "('kumar', True, '45', 12)\n"
     ]
    }
   ],
   "source": [
    "print(p[2])\n",
    "print(p[2:-1])"
   ]
  },
  {
   "cell_type": "code",
   "execution_count": 21,
   "id": "d2de781b",
   "metadata": {},
   "outputs": [
    {
     "name": "stdout",
     "output_type": "stream",
     "text": [
      "['__add__', '__class__', '__contains__', '__delattr__', '__dir__', '__doc__', '__eq__', '__format__', '__ge__', '__getattribute__', '__getitem__', '__getnewargs__', '__gt__', '__hash__', '__init__', '__init_subclass__', '__iter__', '__le__', '__len__', '__lt__', '__mul__', '__ne__', '__new__', '__reduce__', '__reduce_ex__', '__repr__', '__rmul__', '__setattr__', '__sizeof__', '__str__', '__subclasshook__', 'count', 'index']\n"
     ]
    }
   ],
   "source": [
    "print(dir(tuple))"
   ]
  },
  {
   "cell_type": "code",
   "execution_count": 23,
   "id": "f5525040",
   "metadata": {},
   "outputs": [
    {
     "name": "stdout",
     "output_type": "stream",
     "text": [
      "(12, 45.06112, 'kumar', True, '45', 12, 12)\n",
      "3\n"
     ]
    }
   ],
   "source": [
    "print(p)\n",
    "y = p.count(12)\n",
    "print(y)"
   ]
  },
  {
   "cell_type": "code",
   "execution_count": 24,
   "id": "a816f2e4",
   "metadata": {},
   "outputs": [
    {
     "name": "stdout",
     "output_type": "stream",
     "text": [
      "(12, 45.06112, 'kumar', True, '45', 12, 12)\n",
      "0\n"
     ]
    }
   ],
   "source": [
    "print(p)\n",
    "y = p.count(120)\n",
    "print(y)"
   ]
  },
  {
   "cell_type": "code",
   "execution_count": 25,
   "id": "11a2cbab",
   "metadata": {},
   "outputs": [
    {
     "name": "stdout",
     "output_type": "stream",
     "text": [
      "(12, 45.06112, 'kumar', True, '45', 12, 12)\n",
      "0\n"
     ]
    }
   ],
   "source": [
    "print(p)\n",
    "u = p.index(12)\n",
    "print(u)"
   ]
  },
  {
   "cell_type": "code",
   "execution_count": 26,
   "id": "7640d9cd",
   "metadata": {},
   "outputs": [
    {
     "name": "stdout",
     "output_type": "stream",
     "text": [
      "(12, 45.06112, 'kumar', True, '45', 12, 12)\n"
     ]
    },
    {
     "ename": "ValueError",
     "evalue": "tuple.index(x): x not in tuple",
     "output_type": "error",
     "traceback": [
      "\u001b[1;31m---------------------------------------------------------------------------\u001b[0m",
      "\u001b[1;31mValueError\u001b[0m                                Traceback (most recent call last)",
      "\u001b[1;32m<ipython-input-26-5490cde23243>\u001b[0m in \u001b[0;36m<module>\u001b[1;34m\u001b[0m\n\u001b[0;32m      1\u001b[0m \u001b[0mprint\u001b[0m\u001b[1;33m(\u001b[0m\u001b[0mp\u001b[0m\u001b[1;33m)\u001b[0m\u001b[1;33m\u001b[0m\u001b[1;33m\u001b[0m\u001b[0m\n\u001b[1;32m----> 2\u001b[1;33m \u001b[0mu\u001b[0m \u001b[1;33m=\u001b[0m \u001b[0mp\u001b[0m\u001b[1;33m.\u001b[0m\u001b[0mindex\u001b[0m\u001b[1;33m(\u001b[0m\u001b[1;36m120\u001b[0m\u001b[1;33m)\u001b[0m\u001b[1;33m\u001b[0m\u001b[1;33m\u001b[0m\u001b[0m\n\u001b[0m\u001b[0;32m      3\u001b[0m \u001b[0mprint\u001b[0m\u001b[1;33m(\u001b[0m\u001b[0mu\u001b[0m\u001b[1;33m)\u001b[0m\u001b[1;33m\u001b[0m\u001b[1;33m\u001b[0m\u001b[0m\n",
      "\u001b[1;31mValueError\u001b[0m: tuple.index(x): x not in tuple"
     ]
    }
   ],
   "source": [
    "print(p)\n",
    "u = p.index(120)\n",
    "print(u)"
   ]
  },
  {
   "cell_type": "code",
   "execution_count": 31,
   "id": "0137f01c",
   "metadata": {},
   "outputs": [
    {
     "name": "stdout",
     "output_type": "stream",
     "text": [
      "(12, 78, 45, 87, 564, 4, 654, 3535, 1) <class 'tuple'>\n",
      "[12, 78, 45, 87, 564, 4, 654, 3535, 1, 20] <class 'list'>\n",
      "(78, 45, 87, 564, 4, 654, 3535, 1) <class 'tuple'>\n"
     ]
    }
   ],
   "source": [
    "g = (12,78,45,87,564,4,654,3535,1)\n",
    "y = list(g)\n",
    "y.append(20)\n",
    "t = len(y)\n",
    "h = tuple(g[1:t-1:])\n",
    "print(g,type(g))\n",
    "print(y,type(y))\n",
    "print(h,type(h))"
   ]
  },
  {
   "cell_type": "markdown",
   "id": "307f3d45",
   "metadata": {},
   "source": [
    "## Dictionary:\n",
    "    - It can be represented as \"{}\" if it is empty then default data structure is dictionary\n",
    "    - It can stores the data in the format of keys and values pairs\n",
    "    - It allows duplicate values but not keys\n",
    "    - Values can be changed but not keys\n",
    "    - It can be typecasted as dict()"
   ]
  },
  {
   "cell_type": "code",
   "execution_count": 32,
   "id": "719aa4af",
   "metadata": {},
   "outputs": [
    {
     "name": "stdout",
     "output_type": "stream",
     "text": [
      "{} <class 'dict'>\n"
     ]
    }
   ],
   "source": [
    "s = {}\n",
    "print(s,type(s))"
   ]
  },
  {
   "cell_type": "code",
   "execution_count": 33,
   "id": "cb7ece84",
   "metadata": {},
   "outputs": [
    {
     "name": "stdout",
     "output_type": "stream",
     "text": [
      "{'6'} <class 'set'>\n"
     ]
    }
   ],
   "source": [
    "h = {'6'}\n",
    "print(h,type(h))"
   ]
  },
  {
   "cell_type": "code",
   "execution_count": 34,
   "id": "79e2fc9d",
   "metadata": {},
   "outputs": [
    {
     "name": "stdout",
     "output_type": "stream",
     "text": [
      "{'name': ['rajesh', 'somu', 'kiran'], 'sal': 25000, 'age': [10]} <class 'dict'>\n"
     ]
    }
   ],
   "source": [
    "c = {'name':['rajesh','somu','kiran'],'sal':25000,'age':[10]}\n",
    "print(c,type(c))"
   ]
  },
  {
   "cell_type": "code",
   "execution_count": 35,
   "id": "bca640bb",
   "metadata": {},
   "outputs": [
    {
     "name": "stdout",
     "output_type": "stream",
     "text": [
      "['__class__', '__contains__', '__delattr__', '__delitem__', '__dir__', '__doc__', '__eq__', '__format__', '__ge__', '__getattribute__', '__getitem__', '__gt__', '__hash__', '__init__', '__init_subclass__', '__iter__', '__le__', '__len__', '__lt__', '__ne__', '__new__', '__reduce__', '__reduce_ex__', '__repr__', '__setattr__', '__setitem__', '__sizeof__', '__str__', '__subclasshook__', 'clear', 'copy', 'fromkeys', 'get', 'items', 'keys', 'pop', 'popitem', 'setdefault', 'update', 'values']\n"
     ]
    }
   ],
   "source": [
    "print(dir(dict))"
   ]
  },
  {
   "cell_type": "code",
   "execution_count": 38,
   "id": "d3ae124c",
   "metadata": {},
   "outputs": [
    {
     "name": "stdout",
     "output_type": "stream",
     "text": [
      "{'name': ['rajesh', 'somu', 'kiran'], 'sal': 25000, 'age': [10]}\n",
      "['rajesh', 'somu', 'kiran']\n",
      "25000\n"
     ]
    }
   ],
   "source": [
    "print(c)\n",
    "print(c.get('name'))\n",
    "print(c['sal'])"
   ]
  },
  {
   "cell_type": "code",
   "execution_count": 39,
   "id": "34356887",
   "metadata": {},
   "outputs": [
    {
     "name": "stdout",
     "output_type": "stream",
     "text": [
      "dict_items([('name', ['rajesh', 'somu', 'kiran']), ('sal', 25000), ('age', [10])])\n"
     ]
    }
   ],
   "source": [
    "print(c.items())"
   ]
  },
  {
   "cell_type": "code",
   "execution_count": 40,
   "id": "c9b2055a",
   "metadata": {},
   "outputs": [
    {
     "name": "stdout",
     "output_type": "stream",
     "text": [
      "{'name': ['rajesh', 'somu', 'kiran'], 'sal': 25000, 'age': [10]}\n"
     ]
    }
   ],
   "source": [
    "print(c)"
   ]
  },
  {
   "cell_type": "code",
   "execution_count": 41,
   "id": "aca322f6",
   "metadata": {},
   "outputs": [
    {
     "name": "stdout",
     "output_type": "stream",
     "text": [
      "{'name': ['rajesh', 'somu', 'kiran'], 'sal': 25000, 'age': [10]}\n",
      "dict_keys(['name', 'sal', 'age'])\n"
     ]
    }
   ],
   "source": [
    "print(c)\n",
    "print(c.keys())"
   ]
  },
  {
   "cell_type": "code",
   "execution_count": 42,
   "id": "bb52748a",
   "metadata": {},
   "outputs": [
    {
     "name": "stdout",
     "output_type": "stream",
     "text": [
      "{'name': ['rajesh', 'somu', 'kiran'], 'sal': 25000, 'age': [10]}\n",
      "dict_values([['rajesh', 'somu', 'kiran'], 25000, [10]])\n"
     ]
    }
   ],
   "source": [
    "print(c)\n",
    "print(c.values())"
   ]
  },
  {
   "cell_type": "code",
   "execution_count": 43,
   "id": "810d48d4",
   "metadata": {},
   "outputs": [
    {
     "name": "stdout",
     "output_type": "stream",
     "text": [
      "{'name': ['rajesh', 'somu', 'kiran'], 'sal': 25000, 'age': [10]}\n"
     ]
    },
    {
     "ename": "TypeError",
     "evalue": "pop expected at least 1 arguments, got 0",
     "output_type": "error",
     "traceback": [
      "\u001b[1;31m---------------------------------------------------------------------------\u001b[0m",
      "\u001b[1;31mTypeError\u001b[0m                                 Traceback (most recent call last)",
      "\u001b[1;32m<ipython-input-43-757389b89b4e>\u001b[0m in \u001b[0;36m<module>\u001b[1;34m\u001b[0m\n\u001b[0;32m      1\u001b[0m \u001b[0mprint\u001b[0m\u001b[1;33m(\u001b[0m\u001b[0mc\u001b[0m\u001b[1;33m)\u001b[0m\u001b[1;33m\u001b[0m\u001b[1;33m\u001b[0m\u001b[0m\n\u001b[1;32m----> 2\u001b[1;33m \u001b[0mc\u001b[0m\u001b[1;33m.\u001b[0m\u001b[0mpop\u001b[0m\u001b[1;33m(\u001b[0m\u001b[1;33m)\u001b[0m\u001b[1;33m\u001b[0m\u001b[1;33m\u001b[0m\u001b[0m\n\u001b[0m\u001b[0;32m      3\u001b[0m \u001b[0mprint\u001b[0m\u001b[1;33m(\u001b[0m\u001b[0mc\u001b[0m\u001b[1;33m)\u001b[0m\u001b[1;33m\u001b[0m\u001b[1;33m\u001b[0m\u001b[0m\n",
      "\u001b[1;31mTypeError\u001b[0m: pop expected at least 1 arguments, got 0"
     ]
    }
   ],
   "source": [
    "print(c)\n",
    "c.pop()\n",
    "print(c)"
   ]
  },
  {
   "cell_type": "code",
   "execution_count": 44,
   "id": "b3da3fa4",
   "metadata": {},
   "outputs": [
    {
     "name": "stdout",
     "output_type": "stream",
     "text": [
      "{'name': ['rajesh', 'somu', 'kiran'], 'sal': 25000, 'age': [10]}\n",
      "{'name': ['rajesh', 'somu', 'kiran'], 'sal': 25000}\n"
     ]
    }
   ],
   "source": [
    "print(c)\n",
    "c.pop('age')\n",
    "print(c)"
   ]
  },
  {
   "cell_type": "code",
   "execution_count": 45,
   "id": "bcbd8ce1",
   "metadata": {},
   "outputs": [
    {
     "name": "stdout",
     "output_type": "stream",
     "text": [
      "{'name': ['rajesh', 'somu', 'kiran'], 'sal': 25000}\n"
     ]
    },
    {
     "ename": "KeyError",
     "evalue": "'first_name'",
     "output_type": "error",
     "traceback": [
      "\u001b[1;31m---------------------------------------------------------------------------\u001b[0m",
      "\u001b[1;31mKeyError\u001b[0m                                  Traceback (most recent call last)",
      "\u001b[1;32m<ipython-input-45-3aba932a1595>\u001b[0m in \u001b[0;36m<module>\u001b[1;34m\u001b[0m\n\u001b[0;32m      1\u001b[0m \u001b[0mprint\u001b[0m\u001b[1;33m(\u001b[0m\u001b[0mc\u001b[0m\u001b[1;33m)\u001b[0m\u001b[1;33m\u001b[0m\u001b[1;33m\u001b[0m\u001b[0m\n\u001b[1;32m----> 2\u001b[1;33m \u001b[0mc\u001b[0m\u001b[1;33m.\u001b[0m\u001b[0mpop\u001b[0m\u001b[1;33m(\u001b[0m\u001b[1;34m'first_name'\u001b[0m\u001b[1;33m)\u001b[0m\u001b[1;33m\u001b[0m\u001b[1;33m\u001b[0m\u001b[0m\n\u001b[0m\u001b[0;32m      3\u001b[0m \u001b[0mprint\u001b[0m\u001b[1;33m(\u001b[0m\u001b[0mc\u001b[0m\u001b[1;33m)\u001b[0m\u001b[1;33m\u001b[0m\u001b[1;33m\u001b[0m\u001b[0m\n",
      "\u001b[1;31mKeyError\u001b[0m: 'first_name'"
     ]
    }
   ],
   "source": [
    "print(c)\n",
    "c.pop('first_name')\n",
    "print(c)"
   ]
  },
  {
   "cell_type": "code",
   "execution_count": 46,
   "id": "b46bc41f",
   "metadata": {},
   "outputs": [
    {
     "name": "stdout",
     "output_type": "stream",
     "text": [
      "{'name': ['rajesh', 'somu', 'kiran'], 'sal': 25000}\n",
      "{'name': ['rajesh', 'somu', 'kiran']}\n"
     ]
    }
   ],
   "source": [
    "print(c)\n",
    "c.popitem()\n",
    "print(c)"
   ]
  },
  {
   "cell_type": "code",
   "execution_count": 47,
   "id": "80a98997",
   "metadata": {},
   "outputs": [
    {
     "name": "stdout",
     "output_type": "stream",
     "text": [
      "{'name': ['rajesh', 'somu', 'kiran']}\n",
      "{'name': ['rajesh', 'somu', 'kiran'], 'age': 45}\n"
     ]
    }
   ],
   "source": [
    "print(c)\n",
    "c.setdefault('age',45)\n",
    "print(c)"
   ]
  },
  {
   "cell_type": "code",
   "execution_count": 48,
   "id": "8c2a0768",
   "metadata": {},
   "outputs": [
    {
     "name": "stdout",
     "output_type": "stream",
     "text": [
      "{'name': ['rajesh', 'somu', 'kiran'], 'age': 45}\n",
      "{'name': ['rajesh', 'somu', 'kiran'], 'age': 45, 'bloodgroup': None}\n"
     ]
    }
   ],
   "source": [
    "print(c)\n",
    "c.setdefault('bloodgroup')\n",
    "print(c)"
   ]
  },
  {
   "cell_type": "code",
   "execution_count": 50,
   "id": "81ea50cd",
   "metadata": {},
   "outputs": [
    {
     "name": "stdout",
     "output_type": "stream",
     "text": [
      "{'name': ['rajesh', 'somu', 'kiran'], 'age': 45, 'bloodgroup': None}\n",
      "{'name': ['rajesh', 'somu', 'kiran'], 'age': 45, 'bloodgroup': None, 'percentage': 50}\n"
     ]
    }
   ],
   "source": [
    "print(c)\n",
    "c.setdefault('percentage',50)\n",
    "print(c)"
   ]
  },
  {
   "cell_type": "code",
   "execution_count": 51,
   "id": "480246e6",
   "metadata": {},
   "outputs": [
    {
     "name": "stdout",
     "output_type": "stream",
     "text": [
      "{'name': ['rajesh', 'somu', 'kiran'], 'age': 45, 'bloodgroup': None, 'percentage': 50}\n",
      "{'name': ['rajesh', 'somu', 'kiran'], 'age': 45, 'bloodgroup': 'A+', 'percentage': 50}\n"
     ]
    }
   ],
   "source": [
    "print(c)\n",
    "c.update({'bloodgroup':'A+'})\n",
    "print(c)"
   ]
  },
  {
   "cell_type": "code",
   "execution_count": 53,
   "id": "1c4ad261",
   "metadata": {},
   "outputs": [
    {
     "name": "stdout",
     "output_type": "stream",
     "text": [
      "{'name': ['rajesh', 'somu', 'kiran'], 'age': 45, 'bloodgroup': 'A+', 'percentage': 50, 'precentage': 20}\n",
      "{'name': ['rajesh', 'somu', 'kiran'], 'age': 45, 'bloodgroup': 'A+', 'percentage': 20, 'precentage': 20}\n"
     ]
    }
   ],
   "source": [
    "print(c)\n",
    "c.update({'percentage':20})\n",
    "print(c)"
   ]
  },
  {
   "cell_type": "code",
   "execution_count": 55,
   "id": "f805fb26",
   "metadata": {},
   "outputs": [
    {
     "name": "stdout",
     "output_type": "stream",
     "text": [
      "{'name': ['rajesh', 'somu', 'kiran'], 'age': 45, 'bloodgroup': 'A+', 'percentage': 20, 'precentage': 20}\n",
      "{'name': ['rajesh', 'somu', 'kiran'], 'age': 45, 'bloodgroup': 'A+', 'percentage': 20}\n"
     ]
    }
   ],
   "source": [
    "print(c)\n",
    "c.pop('precentage')\n",
    "print(c)"
   ]
  },
  {
   "cell_type": "code",
   "execution_count": 56,
   "id": "c17846f2",
   "metadata": {},
   "outputs": [
    {
     "name": "stdout",
     "output_type": "stream",
     "text": [
      "{'name': ['rajesh', 'somu', 'kiran'], 'age': 45, 'bloodgroup': 'A+', 'percentage': 20}\n",
      "{'name': ['rajesh', 'somu', 'kiran'], 'age': 45, 'bloodgroup': 'A+', 'percentage': 20, 'id': [121, 131, 141]}\n"
     ]
    }
   ],
   "source": [
    "print(c)\n",
    "c['id'] = [121,131,141]\n",
    "print(c)"
   ]
  },
  {
   "cell_type": "code",
   "execution_count": 58,
   "id": "b18952dc",
   "metadata": {},
   "outputs": [
    {
     "name": "stdout",
     "output_type": "stream",
     "text": [
      "12 45 78 9 55 6 3 132 1.0 "
     ]
    }
   ],
   "source": [
    "h = [12,45,78,9,55,6,3,132,1.0]\n",
    "\n",
    "for i in range(len(h)):\n",
    "    print(h[i],end=\" \")"
   ]
  },
  {
   "cell_type": "code",
   "execution_count": 59,
   "id": "92b1fc6d",
   "metadata": {},
   "outputs": [
    {
     "name": "stdout",
     "output_type": "stream",
     "text": [
      "12 45 78 9 55 6 3 132 1.0 "
     ]
    }
   ],
   "source": [
    "for i in h:\n",
    "    print(i,end=\" \")"
   ]
  },
  {
   "cell_type": "code",
   "execution_count": 61,
   "id": "221503a8",
   "metadata": {},
   "outputs": [
    {
     "name": "stdout",
     "output_type": "stream",
     "text": [
      "45 78 56 4654 35 13 1 321 32 1 "
     ]
    }
   ],
   "source": [
    "y = (45,78,56,4654,35,13,1,321,32,1)\n",
    "\n",
    "for i in range(len(y)):\n",
    "    print(y[i],end=\" \")"
   ]
  },
  {
   "cell_type": "code",
   "execution_count": 62,
   "id": "927ab73e",
   "metadata": {},
   "outputs": [
    {
     "name": "stdout",
     "output_type": "stream",
     "text": [
      "45 78 56 4654 35 13 1 321 32 1 "
     ]
    }
   ],
   "source": [
    "for i in y:\n",
    "    print(i,end=\" \")"
   ]
  },
  {
   "cell_type": "code",
   "execution_count": 63,
   "id": "d161a69d",
   "metadata": {},
   "outputs": [
    {
     "name": "stdout",
     "output_type": "stream",
     "text": [
      "name age bloodgroup percentage id "
     ]
    }
   ],
   "source": [
    "for i in c:\n",
    "    print(i,end=\" \")"
   ]
  },
  {
   "cell_type": "code",
   "execution_count": 64,
   "id": "d0529ad9",
   "metadata": {},
   "outputs": [
    {
     "name": "stdout",
     "output_type": "stream",
     "text": [
      "{'name': ['rajesh', 'somu', 'kiran'], 'age': 45, 'bloodgroup': 'A+', 'percentage': 20, 'id': [121, 131, 141]}\n"
     ]
    }
   ],
   "source": [
    "print(c)"
   ]
  },
  {
   "cell_type": "code",
   "execution_count": 65,
   "id": "95534548",
   "metadata": {},
   "outputs": [
    {
     "ename": "ValueError",
     "evalue": "too many values to unpack (expected 2)",
     "output_type": "error",
     "traceback": [
      "\u001b[1;31m---------------------------------------------------------------------------\u001b[0m",
      "\u001b[1;31mValueError\u001b[0m                                Traceback (most recent call last)",
      "\u001b[1;32m<ipython-input-65-ac8c550c89a2>\u001b[0m in \u001b[0;36m<module>\u001b[1;34m\u001b[0m\n\u001b[1;32m----> 1\u001b[1;33m \u001b[1;32mfor\u001b[0m \u001b[0mi\u001b[0m\u001b[1;33m,\u001b[0m\u001b[0mj\u001b[0m \u001b[1;32min\u001b[0m \u001b[0mc\u001b[0m\u001b[1;33m:\u001b[0m\u001b[1;33m\u001b[0m\u001b[1;33m\u001b[0m\u001b[0m\n\u001b[0m\u001b[0;32m      2\u001b[0m     \u001b[0mprint\u001b[0m\u001b[1;33m(\u001b[0m\u001b[0mi\u001b[0m\u001b[1;33m,\u001b[0m\u001b[0mj\u001b[0m\u001b[1;33m)\u001b[0m\u001b[1;33m\u001b[0m\u001b[1;33m\u001b[0m\u001b[0m\n",
      "\u001b[1;31mValueError\u001b[0m: too many values to unpack (expected 2)"
     ]
    }
   ],
   "source": [
    "for i,j in c:\n",
    "    print(i,j)"
   ]
  },
  {
   "cell_type": "code",
   "execution_count": 66,
   "id": "c369182a",
   "metadata": {},
   "outputs": [
    {
     "name": "stdout",
     "output_type": "stream",
     "text": [
      "name ['rajesh', 'somu', 'kiran']\n",
      "age 45\n",
      "bloodgroup A+\n",
      "percentage 20\n",
      "id [121, 131, 141]\n"
     ]
    }
   ],
   "source": [
    "for i,j in c.items():\n",
    "    print(i,j)"
   ]
  },
  {
   "cell_type": "code",
   "execution_count": 67,
   "id": "584ebea1",
   "metadata": {},
   "outputs": [
    {
     "name": "stdout",
     "output_type": "stream",
     "text": [
      "['rajesh', 'somu', 'kiran']\n",
      "45\n",
      "A+\n",
      "20\n",
      "[121, 131, 141]\n"
     ]
    }
   ],
   "source": [
    "for j in c.values():\n",
    "    print(j)"
   ]
  },
  {
   "cell_type": "code",
   "execution_count": 68,
   "id": "0b6365d5",
   "metadata": {},
   "outputs": [
    {
     "name": "stdout",
     "output_type": "stream",
     "text": [
      "dict_keys(['name', 'age', 'bloodgroup', 'percentage', 'id'])\n"
     ]
    }
   ],
   "source": [
    "b = c.keys()\n",
    "print(b)"
   ]
  },
  {
   "cell_type": "code",
   "execution_count": 75,
   "id": "82ad1017",
   "metadata": {},
   "outputs": [
    {
     "name": "stdout",
     "output_type": "stream",
     "text": [
      "{'name': 'ramu', 'age': '25', 'sal': '16000', 'id': '45', 'fname': ''}\n"
     ]
    }
   ],
   "source": [
    "v = ['name','age','sal','id','fname']\n",
    "t = ['ramu',25,16000,45,'']\n",
    "y = {}\n",
    "for i,j in zip(v,t):\n",
    "    y[i] = str(j)\n",
    "print(y)"
   ]
  },
  {
   "cell_type": "markdown",
   "id": "ae78a0f7",
   "metadata": {},
   "source": [
    "## String:\n",
    "    - It can be enclosed with ' or \"\n",
    "    - It can be typecasted as str()\n",
    "    - Slicing can be done because of index\n",
    "    - It can changes the value and it will changes the address location of a string\n",
    "    - It stores duplicate data values"
   ]
  },
  {
   "cell_type": "code",
   "execution_count": 76,
   "id": "659be875",
   "metadata": {},
   "outputs": [
    {
     "name": "stdout",
     "output_type": "stream",
     "text": [
      "Python is a programming language <class 'str'>\n"
     ]
    }
   ],
   "source": [
    "s = 'Python is a programming language'\n",
    "print(s,type(s))"
   ]
  },
  {
   "cell_type": "code",
   "execution_count": 78,
   "id": "f042c0a9",
   "metadata": {},
   "outputs": [
    {
     "name": "stdout",
     "output_type": "stream",
     "text": [
      "ramu 2362499356784\n",
      "ramu 2362499356784\n"
     ]
    }
   ],
   "source": [
    "t = 'ramu'\n",
    "z = t\n",
    "print(t,id(t))\n",
    "print(z,id(z))"
   ]
  },
  {
   "cell_type": "code",
   "execution_count": 79,
   "id": "7ba66310",
   "metadata": {},
   "outputs": [
    {
     "name": "stdout",
     "output_type": "stream",
     "text": [
      "45 2362485160880\n",
      "46 2362499417264\n"
     ]
    }
   ],
   "source": [
    "y = '45'\n",
    "d = '46'\n",
    "print(y,id(y))\n",
    "print(d,id(d))"
   ]
  },
  {
   "cell_type": "code",
   "execution_count": 80,
   "id": "1699d2e8",
   "metadata": {},
   "outputs": [
    {
     "name": "stdout",
     "output_type": "stream",
     "text": [
      "40 2362499418992\n",
      "40 2362499418992\n"
     ]
    }
   ],
   "source": [
    "y = '40'\n",
    "d = '40'\n",
    "print(y,id(y))\n",
    "print(d,id(d))"
   ]
  },
  {
   "cell_type": "code",
   "execution_count": 81,
   "id": "89f4431e",
   "metadata": {},
   "outputs": [
    {
     "name": "stdout",
     "output_type": "stream",
     "text": [
      "['__add__', '__class__', '__contains__', '__delattr__', '__dir__', '__doc__', '__eq__', '__format__', '__ge__', '__getattribute__', '__getitem__', '__getnewargs__', '__gt__', '__hash__', '__init__', '__init_subclass__', '__iter__', '__le__', '__len__', '__lt__', '__mod__', '__mul__', '__ne__', '__new__', '__reduce__', '__reduce_ex__', '__repr__', '__rmod__', '__rmul__', '__setattr__', '__sizeof__', '__str__', '__subclasshook__', 'capitalize', 'casefold', 'center', 'count', 'encode', 'endswith', 'expandtabs', 'find', 'format', 'format_map', 'index', 'isalnum', 'isalpha', 'isascii', 'isdecimal', 'isdigit', 'isidentifier', 'islower', 'isnumeric', 'isprintable', 'isspace', 'istitle', 'isupper', 'join', 'ljust', 'lower', 'lstrip', 'maketrans', 'partition', 'replace', 'rfind', 'rindex', 'rjust', 'rpartition', 'rsplit', 'rstrip', 'split', 'splitlines', 'startswith', 'strip', 'swapcase', 'title', 'translate', 'upper', 'zfill']\n"
     ]
    }
   ],
   "source": [
    "print(dir(str))"
   ]
  },
  {
   "cell_type": "code",
   "execution_count": 88,
   "id": "7e9ffabe",
   "metadata": {},
   "outputs": [
    {
     "name": "stdout",
     "output_type": "stream",
     "text": [
      "pytHon ProGramMinG\n",
      "Python programming\n",
      "Python Programming\n",
      "PYThON pROgRAMmINg\n",
      "python programming\n",
      "PYTHON PROGRAMMING\n",
      "python programming\n"
     ]
    }
   ],
   "source": [
    "b = 'pytHon ProGramMinG'\n",
    "print(b)\n",
    "print(b.capitalize())\n",
    "print(b.title())\n",
    "print(b.swapcase())\n",
    "print(b.casefold())\n",
    "print(b.upper())\n",
    "print(b.lower())"
   ]
  },
  {
   "cell_type": "code",
   "execution_count": 92,
   "id": "46690376",
   "metadata": {},
   "outputs": [
    {
     "name": "stdout",
     "output_type": "stream",
     "text": [
      "Ramu is Good at Teaching\n",
      "Lalitha is Good Girl\n",
      "     Ramu is Good at Teaching\n",
      "Ramu is Good at Teaching  \n"
     ]
    }
   ],
   "source": [
    "t = \"     Ramu is Good at Teaching  \"\n",
    "y = 'Lalitha is Good Girl   '\n",
    "print(t.strip())\n",
    "print(y.strip())\n",
    "print(t.rstrip())\n",
    "print(t.lstrip())"
   ]
  },
  {
   "cell_type": "code",
   "execution_count": 98,
   "id": "f7e65f03",
   "metadata": {},
   "outputs": [
    {
     "name": "stdout",
     "output_type": "stream",
     "text": [
      "     Ramu is Good at Teaching  \n",
      "['Ramu', 'is', 'Good', 'at', 'Teaching']\n",
      "['     Ramu is G', '', 'd at Teaching  ']\n",
      "['     Ramu is Good at Teaching  ']\n",
      "['Lalitha is Good Gi', 'l   ']\n",
      "['L', 'lith', ' is Good Girl   ']\n"
     ]
    }
   ],
   "source": [
    "print(t)\n",
    "print(t.split())\n",
    "print(t.split('o'))\n",
    "print(t.split('z'))\n",
    "print(y.split('r'))\n",
    "print(y.rsplit('a'))"
   ]
  },
  {
   "cell_type": "code",
   "execution_count": 100,
   "id": "523e6733",
   "metadata": {},
   "outputs": [
    {
     "name": "stdout",
     "output_type": "stream",
     "text": [
      "t\n",
      "i\n"
     ]
    }
   ],
   "source": [
    "g = \"Python PrOgrAMing\"\n",
    "print(g[2])\n",
    "print(g[-3])"
   ]
  },
  {
   "cell_type": "code",
   "execution_count": 107,
   "id": "f9843c7e",
   "metadata": {},
   "outputs": [
    {
     "name": "stdout",
     "output_type": "stream",
     "text": [
      "65\n"
     ]
    }
   ],
   "source": [
    "print(ord('A'))"
   ]
  },
  {
   "cell_type": "code",
   "execution_count": 103,
   "id": "97cda745",
   "metadata": {},
   "outputs": [
    {
     "name": "stdout",
     "output_type": "stream",
     "text": [
      "A\n"
     ]
    }
   ],
   "source": [
    "print(chr(65))"
   ]
  },
  {
   "cell_type": "code",
   "execution_count": 105,
   "id": "7ebda07d",
   "metadata": {},
   "outputs": [
    {
     "name": "stdout",
     "output_type": "stream",
     "text": [
      "A B C D E F G H I J K L M N O P Q R S T U V W X Y Z [ \\ ] ^ _ ` a b c d e f g h i j k l m n o p q r s t u v w x y z { | } ~ "
     ]
    }
   ],
   "source": [
    "for i in range(65,127):\n",
    "    print(chr(i),end=\" \")"
   ]
  },
  {
   "cell_type": "code",
   "execution_count": 110,
   "id": "c4d7e1d7",
   "metadata": {},
   "outputs": [
    {
     "name": "stdout",
     "output_type": "stream",
     "text": [
      "Enter a number: 12745\n",
      "Even numbers are:  2 4\n",
      "Odd numbers are:  1 7 5\n",
      "Even sum is: 6\n",
      "Odd sum is: 13\n"
     ]
    }
   ],
   "source": [
    "n = int(input(\"Enter a number: \"))\n",
    "e,o = '',''\n",
    "es,os =0,0\n",
    "while n!=0:\n",
    "    k = n%10\n",
    "    if k%2==0:\n",
    "        e += str(k)+\" \"\n",
    "        es += k\n",
    "    else:\n",
    "        o += str(k)+\" \"\n",
    "        os += k\n",
    "    n //=10\n",
    "print(\"Even numbers are: {}\".format(e[::-1]))\n",
    "print(\"Odd numbers are: {}\".format(o[::-1]))\n",
    "print(\"Even sum is: {}\".format(es))\n",
    "print(\"Odd sum is: {}\".format(os))"
   ]
  },
  {
   "cell_type": "code",
   "execution_count": null,
   "id": "77a10b09",
   "metadata": {},
   "outputs": [],
   "source": []
  }
 ],
 "metadata": {
  "kernelspec": {
   "display_name": "Python 3",
   "language": "python",
   "name": "python3"
  },
  "language_info": {
   "codemirror_mode": {
    "name": "ipython",
    "version": 3
   },
   "file_extension": ".py",
   "mimetype": "text/x-python",
   "name": "python",
   "nbconvert_exporter": "python",
   "pygments_lexer": "ipython3",
   "version": "3.7.5"
  }
 },
 "nbformat": 4,
 "nbformat_minor": 5
}
