{
 "cells": [
  {
   "cell_type": "markdown",
   "id": "f4a6e114",
   "metadata": {},
   "source": [
    "## Files\n",
    "    - To store the data permanently\n",
    "    - .csv, .text, .xls, .doc\n",
    "    - read => r\n",
    "    - append => a\n",
    "    - write => w\n",
    "    - execute => x"
   ]
  },
  {
   "cell_type": "markdown",
   "id": "f450c2a8",
   "metadata": {},
   "source": [
    "## Read:\n",
    "    - If file exists it will displays all the data\n",
    "    - If file doesn't exists it displays an error\n",
    "\n",
    "## Append:\n",
    "    - If file exists it will adds the present data below of previous data\n",
    "    - If file doesnt exists it will creates a file with a filename\n",
    "\n",
    "## Write:\n",
    "    - If file exists it will erase the previous data and adds present data\n",
    "    - If file doesnt exists it will creates a file with filename\n",
    "\n",
    "## Execute:\n",
    "    - If file exists it will displays an error\n",
    "    - If file doesnt exists it will creates a file with filename"
   ]
  },
  {
   "cell_type": "code",
   "execution_count": 5,
   "id": "2122a59a",
   "metadata": {},
   "outputs": [],
   "source": [
    "with open('DummyFiles/sample.text','w') as fh:\n",
    "    fh.write('Welcome to APSSDC Programs..')"
   ]
  },
  {
   "cell_type": "code",
   "execution_count": 6,
   "id": "d987e3d5",
   "metadata": {},
   "outputs": [
    {
     "name": "stdout",
     "output_type": "stream",
     "text": [
      "['_CHUNK_SIZE', '__class__', '__del__', '__delattr__', '__dict__', '__dir__', '__doc__', '__enter__', '__eq__', '__exit__', '__format__', '__ge__', '__getattribute__', '__getstate__', '__gt__', '__hash__', '__init__', '__init_subclass__', '__iter__', '__le__', '__lt__', '__ne__', '__new__', '__next__', '__reduce__', '__reduce_ex__', '__repr__', '__setattr__', '__sizeof__', '__str__', '__subclasshook__', '_checkClosed', '_checkReadable', '_checkSeekable', '_checkWritable', '_finalizing', 'buffer', 'close', 'closed', 'detach', 'encoding', 'errors', 'fileno', 'flush', 'isatty', 'line_buffering', 'mode', 'name', 'newlines', 'read', 'readable', 'readline', 'readlines', 'reconfigure', 'seek', 'seekable', 'tell', 'truncate', 'writable', 'write', 'write_through', 'writelines']\n"
     ]
    }
   ],
   "source": [
    "print(dir(fh))"
   ]
  },
  {
   "cell_type": "code",
   "execution_count": 7,
   "id": "9e37578e",
   "metadata": {},
   "outputs": [
    {
     "name": "stdout",
     "output_type": "stream",
     "text": [
      "Welcome to APSSDC Programs..\n"
     ]
    }
   ],
   "source": [
    "with open('DummyFiles/sample.text','r') as fr:\n",
    "    print(fr.read())"
   ]
  },
  {
   "cell_type": "code",
   "execution_count": 11,
   "id": "d94b1cff",
   "metadata": {},
   "outputs": [
    {
     "ename": "FileExistsError",
     "evalue": "[Errno 17] File exists: 'DummyFiles/info1.text'",
     "output_type": "error",
     "traceback": [
      "\u001b[1;31m---------------------------------------------------------------------------\u001b[0m",
      "\u001b[1;31mFileExistsError\u001b[0m                           Traceback (most recent call last)",
      "\u001b[1;32m<ipython-input-11-6f3b4d847fc5>\u001b[0m in \u001b[0;36m<module>\u001b[1;34m\u001b[0m\n\u001b[1;32m----> 1\u001b[1;33m \u001b[1;32mwith\u001b[0m \u001b[0mopen\u001b[0m\u001b[1;33m(\u001b[0m\u001b[1;34m'DummyFiles/info1.text'\u001b[0m\u001b[1;33m,\u001b[0m\u001b[1;34m'x'\u001b[0m\u001b[1;33m)\u001b[0m \u001b[1;32mas\u001b[0m \u001b[0mft\u001b[0m\u001b[1;33m:\u001b[0m\u001b[1;33m\u001b[0m\u001b[1;33m\u001b[0m\u001b[0m\n\u001b[0m\u001b[0;32m      2\u001b[0m     \u001b[0mft\u001b[0m\u001b[1;33m.\u001b[0m\u001b[0mwrite\u001b[0m\u001b[1;33m(\u001b[0m\u001b[1;34m'Hello'\u001b[0m\u001b[1;33m)\u001b[0m\u001b[1;33m\u001b[0m\u001b[1;33m\u001b[0m\u001b[0m\n",
      "\u001b[1;31mFileExistsError\u001b[0m: [Errno 17] File exists: 'DummyFiles/info1.text'"
     ]
    }
   ],
   "source": [
    "with open('DummyFiles/info1.text','x') as ft:\n",
    "    ft.write('Hello')"
   ]
  },
  {
   "cell_type": "code",
   "execution_count": 18,
   "id": "c064b782",
   "metadata": {},
   "outputs": [],
   "source": [
    "with open('DummyFiles/demo.text','a') as fa:\n",
    "    fa.write('Hello Welcome to Demo File'+\"\\n\")"
   ]
  },
  {
   "cell_type": "code",
   "execution_count": 25,
   "id": "2be4cc48",
   "metadata": {},
   "outputs": [
    {
     "name": "stdout",
     "output_type": "stream",
     "text": [
      "Hello Welcome to Demo File\n",
      "Hello Welcome to Demo File\n",
      "Hello Welcome to Demo File\n",
      "\n"
     ]
    }
   ],
   "source": [
    "with open('DummyFiles/demo.text','r') as d:\n",
    "    print(d.read())"
   ]
  },
  {
   "cell_type": "markdown",
   "id": "25ee9671",
   "metadata": {},
   "source": [
    "```\n",
    "Input:\n",
    "    5\n",
    "    45 78 9 56 2\n",
    "Output:\n",
    "    Even numbers are: 78 56 2\n",
    "```"
   ]
  },
  {
   "cell_type": "code",
   "execution_count": 44,
   "id": "233a729a",
   "metadata": {},
   "outputs": [
    {
     "name": "stdout",
     "output_type": "stream",
     "text": [
      "4\n",
      "12 7 9 3\n"
     ]
    }
   ],
   "source": [
    "with open('DummyFiles/input.text','w') as g:\n",
    "    h = input()\n",
    "    g.write(h+\"\\n\")\n",
    "    b = input().split()\n",
    "    for j in b:\n",
    "        g.write(j+\" \")"
   ]
  },
  {
   "cell_type": "code",
   "execution_count": 45,
   "id": "d9138513",
   "metadata": {},
   "outputs": [],
   "source": [
    "with open('DummyFiles/input.text','r') as n:\n",
    "    h = n.readlines()\n",
    "    t = h[1].split()\n",
    "    with open('DummyFiles/output.text','w') as k:\n",
    "        k.write(\"Even numbers are: \")\n",
    "        for b in t:\n",
    "            if int(b)%2==0:\n",
    "                k.write(b+\" \")"
   ]
  },
  {
   "cell_type": "code",
   "execution_count": null,
   "id": "1c5e5209",
   "metadata": {},
   "outputs": [],
   "source": [
    "sno names year\n",
    "1   ramu  2\n",
    "2   kumar 1\n",
    "3   prakash 4"
   ]
  },
  {
   "cell_type": "code",
   "execution_count": 52,
   "id": "a734a5d4",
   "metadata": {},
   "outputs": [
    {
     "name": "stdout",
     "output_type": "stream",
     "text": [
      "Enter n number of records: 3\n",
      "suresh 1\n",
      "kiran 4\n",
      "laitha 2\n"
     ]
    }
   ],
   "source": [
    "with open('DummyFiles/studentsdata.csv','w') as fp:\n",
    "    d = \"Student Names\"+\",\"+\"Year\"+\"\\n\"\n",
    "    fp.write(d)\n",
    "    g = int(input(\"Enter n number of records: \"))\n",
    "    for c in range(1,g+1):\n",
    "        b = input().split()\n",
    "        fp.write(b[0]+\",\"+b[1]+\"\\n\")"
   ]
  },
  {
   "cell_type": "code",
   "execution_count": 13,
   "id": "f7a736d2",
   "metadata": {},
   "outputs": [
    {
     "name": "stdout",
     "output_type": "stream",
     "text": [
      "Enter number of records: 1\n",
      "lalitha 9857854785\n"
     ]
    }
   ],
   "source": [
    "with open('DummyFiles/contactlist.csv','a') as fg:\n",
    "    with open('DummyFiles/contactlist.csv','r') as fr:\n",
    "        g = fr.readlines()\n",
    "        a = []\n",
    "        for u in range(len(g)):\n",
    "            if u == 0:\n",
    "                continue\n",
    "            else:\n",
    "                s = g[u].split(',')[0]\n",
    "                a.append(s)\n",
    "        if len(g) == 0:\n",
    "            r = \"Person Name\"+\",\"+\"Mobile\"+\"\\n\"\n",
    "            fg.write(r)\n",
    "        else:\n",
    "            y = int(input(\"Enter number of records: \"))\n",
    "            for j in range(1,y+1):\n",
    "                d = input().split()\n",
    "                if d[0] in a:\n",
    "                    print(\"Already Exists\")\n",
    "                else:\n",
    "                    fg.write(d[0]+\",\"+d[1]+\"\\n\")"
   ]
  },
  {
   "cell_type": "code",
   "execution_count": 93,
   "id": "8342add0",
   "metadata": {},
   "outputs": [
    {
     "name": "stdout",
     "output_type": "stream",
     "text": [
      "['Person Name,Mobile\\n', 'ramu,9874857854\\n', 'kiran,8748574587\\n', 'tarun,9874857454\\n', 'tarun,9874857454\\n', 'tarun,9874857454\\n', 'tarun,9874857454\\n', 'raju,8974857458\\n']\n"
     ]
    }
   ],
   "source": [
    "print(g)"
   ]
  },
  {
   "cell_type": "markdown",
   "id": "bc7cabe7",
   "metadata": {},
   "source": [
    "## Comprehensions:\n",
    "    - iterator [List,set,tuple and dictionary]\n",
    "    - lines of code will be reduced\n",
    "    - [],(),{}"
   ]
  },
  {
   "cell_type": "code",
   "execution_count": 16,
   "id": "c047fb79",
   "metadata": {},
   "outputs": [
    {
     "name": "stdout",
     "output_type": "stream",
     "text": [
      "Enter a range: 5\n",
      "[0, 1, 2, 3, 4]\n"
     ]
    }
   ],
   "source": [
    "p = []\n",
    "for i in range(int(input(\"Enter a range: \"))):\n",
    "    p.append(i)\n",
    "print(p)"
   ]
  },
  {
   "cell_type": "code",
   "execution_count": 15,
   "id": "e8839a54",
   "metadata": {},
   "outputs": [
    {
     "name": "stdout",
     "output_type": "stream",
     "text": [
      "Enter a range: 5\n",
      "[0, 1, 2, 3, 4]\n"
     ]
    }
   ],
   "source": [
    "p = [i for i in range(int(input(\"Enter a range: \")))]\n",
    "print(p)"
   ]
  },
  {
   "cell_type": "code",
   "execution_count": 23,
   "id": "60203b31",
   "metadata": {},
   "outputs": [
    {
     "name": "stdout",
     "output_type": "stream",
     "text": [
      "Enter a range: 3\n",
      "12\n",
      "5\n",
      "8\n",
      "[12, 8]\n"
     ]
    }
   ],
   "source": [
    "h = [int(input()) for j in range(int(input(\"Enter a range: \")))]\n",
    "p = [h[i] for i in range(len(h)) if h[i]%2==0]\n",
    "print(p)"
   ]
  },
  {
   "cell_type": "code",
   "execution_count": 27,
   "id": "6b1ab0dc",
   "metadata": {},
   "outputs": [
    {
     "name": "stdout",
     "output_type": "stream",
     "text": [
      "Enter a range: 5\n",
      "(0, 1, 2, 3, 4)\n"
     ]
    }
   ],
   "source": [
    "y = tuple((i for i in range(int(input(\"Enter a range: \")))))\n",
    "print(y)"
   ]
  },
  {
   "cell_type": "code",
   "execution_count": 28,
   "id": "f6c65868",
   "metadata": {},
   "outputs": [
    {
     "name": "stdout",
     "output_type": "stream",
     "text": [
      "Enter a range: 6\n",
      "[0, 1, 2, 3, 4, 5]\n"
     ]
    }
   ],
   "source": [
    "z = list(i for i in range(int(input(\"Enter a range: \"))))\n",
    "print(z)"
   ]
  },
  {
   "cell_type": "code",
   "execution_count": 29,
   "id": "c7aa333a",
   "metadata": {},
   "outputs": [
    {
     "name": "stdout",
     "output_type": "stream",
     "text": [
      "Enter a range: 5\n",
      "{0, 1, 2, 3, 4}\n"
     ]
    }
   ],
   "source": [
    "r = {i for i in range(int(input(\"Enter a range: \")))}\n",
    "print(r)"
   ]
  },
  {
   "cell_type": "code",
   "execution_count": 30,
   "id": "444d6c3c",
   "metadata": {},
   "outputs": [
    {
     "name": "stdout",
     "output_type": "stream",
     "text": [
      "Enter a range: 5\n",
      "{0: 0, 1: 1, 2: 4, 3: 9, 4: 16}\n"
     ]
    }
   ],
   "source": [
    "h = {i:i*i for i in range(int(input(\"Enter a range: \")))}\n",
    "print(h)"
   ]
  },
  {
   "cell_type": "code",
   "execution_count": null,
   "id": "46b7603e",
   "metadata": {},
   "outputs": [],
   "source": []
  }
 ],
 "metadata": {
  "kernelspec": {
   "display_name": "Python 3",
   "language": "python",
   "name": "python3"
  },
  "language_info": {
   "codemirror_mode": {
    "name": "ipython",
    "version": 3
   },
   "file_extension": ".py",
   "mimetype": "text/x-python",
   "name": "python",
   "nbconvert_exporter": "python",
   "pygments_lexer": "ipython3",
   "version": "3.7.5"
  }
 },
 "nbformat": 4,
 "nbformat_minor": 5
}
