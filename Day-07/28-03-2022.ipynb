{
 "cells": [
  {
   "cell_type": "markdown",
   "id": "6960f89d",
   "metadata": {},
   "source": [
    "## Functions:\n",
    "    - To perform a specific task\n",
    "    - Syntax:\n",
    "        def functionname(arguments):\n",
    "            //stmnts\n",
    "            return return_value\n",
    "    - Built-in => work is fixed => print,input,range\n",
    "    - user defined => based on user work is assigned => userdefined functions"
   ]
  },
  {
   "cell_type": "markdown",
   "id": "4e2cc080",
   "metadata": {},
   "source": [
    "## User Defined Functions:\n",
    "    => Read,Printing and Logic\n",
    "    - With return_type and with arguments\n",
    "    - With return_type and without arguments\n",
    "    - Without return_type and with arguments\n",
    "    - Without return_type and without arguments"
   ]
  },
  {
   "cell_type": "code",
   "execution_count": 6,
   "id": "08914309",
   "metadata": {},
   "outputs": [
    {
     "name": "stdout",
     "output_type": "stream",
     "text": [
      "Enter a number: 0\n",
      "Sum of natural 0 number is: 0\n"
     ]
    }
   ],
   "source": [
    "# With return_type and with arguments\n",
    "# Reading => Main\n",
    "# Printing => Main\n",
    "# Logic => functions\n",
    "\n",
    "def sumn(j):\n",
    "    t = 0\n",
    "    for i in range(1,j+1):\n",
    "        t += i\n",
    "    return t\n",
    "\n",
    "n = int(input(\"Enter a number: \"))\n",
    "print(\"Sum of natural {} number is: {}\".format(n,sumn(n)))"
   ]
  },
  {
   "cell_type": "code",
   "execution_count": 2,
   "id": "e0fb946c",
   "metadata": {},
   "outputs": [
    {
     "name": "stdout",
     "output_type": "stream",
     "text": [
      "Enter a number: 10\n",
      "Sum of natural 10 number is: 55\n"
     ]
    }
   ],
   "source": [
    "# With return_type and without arguments\n",
    "# Reading => functions\n",
    "# Printing => Main\n",
    "# Logic => functions\n",
    "\n",
    "def sumn():\n",
    "    n = int(input(\"Enter a number: \"))\n",
    "    t = 0\n",
    "    print('Sum of natural {}'.format(n),end=\" \")\n",
    "    for i in range(1,n+1):\n",
    "        t += i\n",
    "    return t\n",
    "\n",
    "print(\"number is: {}\".format(sumn()))"
   ]
  },
  {
   "cell_type": "code",
   "execution_count": 7,
   "id": "0573914d",
   "metadata": {},
   "outputs": [
    {
     "name": "stdout",
     "output_type": "stream",
     "text": [
      "Enter a number: 4\n",
      "Sum of 4 number is: 10\n"
     ]
    }
   ],
   "source": [
    "# Without return_type and with arguments\n",
    "# Reading => Main\n",
    "# Printing => function\n",
    "# Logic => functions\n",
    "\n",
    "def sumn(j):\n",
    "    t = 0\n",
    "    for i in range(1,j+1):\n",
    "        t += i\n",
    "    print(\"Sum of {} number is: {}\".format(n,t))\n",
    "    return\n",
    "\n",
    "n = int(input(\"Enter a number: \"))\n",
    "sumn(n)"
   ]
  },
  {
   "cell_type": "code",
   "execution_count": 8,
   "id": "b30d3dd9",
   "metadata": {},
   "outputs": [
    {
     "name": "stdout",
     "output_type": "stream",
     "text": [
      "Enter a number: 5\n",
      "Sum of 5 number is: 15\n"
     ]
    }
   ],
   "source": [
    "# Without return_type and without arguments\n",
    "# Reading => function\n",
    "# Printing => function\n",
    "# Logic => functions\n",
    "\n",
    "def sumn():\n",
    "    n = int(input(\"Enter a number: \"))\n",
    "    t = 0\n",
    "    for i in range(1,n+1):\n",
    "        t += i\n",
    "    print(\"Sum of {} number is: {}\".format(n,t))\n",
    "    return\n",
    "\n",
    "sumn()"
   ]
  },
  {
   "cell_type": "markdown",
   "id": "97eea19c",
   "metadata": {},
   "source": [
    "## Data Structures:\n",
    "    - Iterators,Data types,Repititors or data structures\n",
    "    - To organize the data in order or unorder formats\n",
    "    - List,Tuple,set,string and Dictionary"
   ]
  },
  {
   "cell_type": "markdown",
   "id": "525e9592",
   "metadata": {},
   "source": [
    "## List\n",
    "    - It can represented as \"[]\"\n",
    "    - It stores the data in order format\n",
    "    - It allows duplicate values\n",
    "    - Slicing can be done because of index values\n",
    "    - It can be typecasted as list()\n",
    "    - It can changes the values"
   ]
  },
  {
   "cell_type": "code",
   "execution_count": 11,
   "id": "8597fda9",
   "metadata": {},
   "outputs": [
    {
     "name": "stdout",
     "output_type": "stream",
     "text": [
      "[45, 78.012, 'prasad', False, '78']\n",
      "[45, 78.012, 'prasad', False, '78']\n",
      "[45, 78.012, 'prasad', False, '78']\n"
     ]
    }
   ],
   "source": [
    "k = [45,78.012,'prasad',False,'78']\n",
    "print(k)\n",
    "print(k[:])\n",
    "print(k[::])"
   ]
  },
  {
   "cell_type": "code",
   "execution_count": 15,
   "id": "accd5afb",
   "metadata": {},
   "outputs": [
    {
     "name": "stdout",
     "output_type": "stream",
     "text": [
      "20 <class 'int'>\n"
     ]
    },
    {
     "data": {
      "text/plain": [
       "int"
      ]
     },
     "execution_count": 15,
     "metadata": {},
     "output_type": "execute_result"
    }
   ],
   "source": [
    "a = 20\n",
    "print(a,type(a))\n",
    "type(a)"
   ]
  },
  {
   "cell_type": "code",
   "execution_count": 16,
   "id": "e0b0ff1e",
   "metadata": {},
   "outputs": [
    {
     "name": "stdout",
     "output_type": "stream",
     "text": [
      "[45, 78.012, 'prasad', False, '78'] <class 'list'>\n"
     ]
    }
   ],
   "source": [
    "print(k,type(k))"
   ]
  },
  {
   "cell_type": "code",
   "execution_count": 17,
   "id": "aecf2ec1",
   "metadata": {},
   "outputs": [
    {
     "name": "stdout",
     "output_type": "stream",
     "text": [
      "[10, 45, 50, 89, 45, 12, 78, 78, 85, 96] <class 'list'>\n"
     ]
    }
   ],
   "source": [
    "h = [10,45,50,89,45,12,78,78,85,96]\n",
    "print(h,type(h))"
   ]
  },
  {
   "cell_type": "code",
   "execution_count": 34,
   "id": "27cbfe7e",
   "metadata": {},
   "outputs": [
    {
     "name": "stdout",
     "output_type": "stream",
     "text": [
      "[10, 45, 50, 89, 45, 12, 78, 78, 85, 96]\n",
      "50\n",
      "78\n",
      "[45, 12, 78, 78, 85, 96]\n",
      "[78, 85, 96]\n",
      "[10, 45, 50, 89, 45]\n",
      "[10, 45, 50, 89]\n",
      "[50, 89, 45, 12]\n",
      "[89, 45, 12]\n",
      "[78, 78]\n",
      "[45, 12, 78]\n"
     ]
    }
   ],
   "source": [
    "print(h)\n",
    "print(h[2])\n",
    "print(h[-3])\n",
    "print(h[4:])\n",
    "print(h[-3:])\n",
    "print(h[:5])\n",
    "print(h[:-6])\n",
    "print(h[2:6])\n",
    "print(h[3:-4])\n",
    "print(h[-4:8])\n",
    "print(h[-6:-3])"
   ]
  },
  {
   "cell_type": "code",
   "execution_count": 39,
   "id": "961cbf1b",
   "metadata": {},
   "outputs": [
    {
     "name": "stdout",
     "output_type": "stream",
     "text": [
      "[10, 45, 50, 89, 45, 12, 78, 78, 85, 96]\n",
      "[50, 89, 45, 12, 78, 78, 85, 96]\n",
      "[89, 45]\n",
      "[50, 45, 78]\n",
      "[96, 85, 78, 78, 12, 45, 89, 50, 45, 10]\n"
     ]
    }
   ],
   "source": [
    "print(h[::])\n",
    "print(h[2::])\n",
    "print(h[3:5:])\n",
    "print(h[2:8:2])\n",
    "print(h[::-1])"
   ]
  },
  {
   "cell_type": "code",
   "execution_count": 40,
   "id": "78bad19c",
   "metadata": {
    "collapsed": true
   },
   "outputs": [
    {
     "name": "stdout",
     "output_type": "stream",
     "text": [
      "Help on class list in module builtins:\n",
      "\n",
      "class list(object)\n",
      " |  list(iterable=(), /)\n",
      " |  \n",
      " |  Built-in mutable sequence.\n",
      " |  \n",
      " |  If no argument is given, the constructor creates a new empty list.\n",
      " |  The argument must be an iterable if specified.\n",
      " |  \n",
      " |  Methods defined here:\n",
      " |  \n",
      " |  __add__(self, value, /)\n",
      " |      Return self+value.\n",
      " |  \n",
      " |  __contains__(self, key, /)\n",
      " |      Return key in self.\n",
      " |  \n",
      " |  __delitem__(self, key, /)\n",
      " |      Delete self[key].\n",
      " |  \n",
      " |  __eq__(self, value, /)\n",
      " |      Return self==value.\n",
      " |  \n",
      " |  __ge__(self, value, /)\n",
      " |      Return self>=value.\n",
      " |  \n",
      " |  __getattribute__(self, name, /)\n",
      " |      Return getattr(self, name).\n",
      " |  \n",
      " |  __getitem__(...)\n",
      " |      x.__getitem__(y) <==> x[y]\n",
      " |  \n",
      " |  __gt__(self, value, /)\n",
      " |      Return self>value.\n",
      " |  \n",
      " |  __iadd__(self, value, /)\n",
      " |      Implement self+=value.\n",
      " |  \n",
      " |  __imul__(self, value, /)\n",
      " |      Implement self*=value.\n",
      " |  \n",
      " |  __init__(self, /, *args, **kwargs)\n",
      " |      Initialize self.  See help(type(self)) for accurate signature.\n",
      " |  \n",
      " |  __iter__(self, /)\n",
      " |      Implement iter(self).\n",
      " |  \n",
      " |  __le__(self, value, /)\n",
      " |      Return self<=value.\n",
      " |  \n",
      " |  __len__(self, /)\n",
      " |      Return len(self).\n",
      " |  \n",
      " |  __lt__(self, value, /)\n",
      " |      Return self<value.\n",
      " |  \n",
      " |  __mul__(self, value, /)\n",
      " |      Return self*value.\n",
      " |  \n",
      " |  __ne__(self, value, /)\n",
      " |      Return self!=value.\n",
      " |  \n",
      " |  __repr__(self, /)\n",
      " |      Return repr(self).\n",
      " |  \n",
      " |  __reversed__(self, /)\n",
      " |      Return a reverse iterator over the list.\n",
      " |  \n",
      " |  __rmul__(self, value, /)\n",
      " |      Return value*self.\n",
      " |  \n",
      " |  __setitem__(self, key, value, /)\n",
      " |      Set self[key] to value.\n",
      " |  \n",
      " |  __sizeof__(self, /)\n",
      " |      Return the size of the list in memory, in bytes.\n",
      " |  \n",
      " |  append(self, object, /)\n",
      " |      Append object to the end of the list.\n",
      " |  \n",
      " |  clear(self, /)\n",
      " |      Remove all items from list.\n",
      " |  \n",
      " |  copy(self, /)\n",
      " |      Return a shallow copy of the list.\n",
      " |  \n",
      " |  count(self, value, /)\n",
      " |      Return number of occurrences of value.\n",
      " |  \n",
      " |  extend(self, iterable, /)\n",
      " |      Extend list by appending elements from the iterable.\n",
      " |  \n",
      " |  index(self, value, start=0, stop=9223372036854775807, /)\n",
      " |      Return first index of value.\n",
      " |      \n",
      " |      Raises ValueError if the value is not present.\n",
      " |  \n",
      " |  insert(self, index, object, /)\n",
      " |      Insert object before index.\n",
      " |  \n",
      " |  pop(self, index=-1, /)\n",
      " |      Remove and return item at index (default last).\n",
      " |      \n",
      " |      Raises IndexError if list is empty or index is out of range.\n",
      " |  \n",
      " |  remove(self, value, /)\n",
      " |      Remove first occurrence of value.\n",
      " |      \n",
      " |      Raises ValueError if the value is not present.\n",
      " |  \n",
      " |  reverse(self, /)\n",
      " |      Reverse *IN PLACE*.\n",
      " |  \n",
      " |  sort(self, /, *, key=None, reverse=False)\n",
      " |      Stable sort *IN PLACE*.\n",
      " |  \n",
      " |  ----------------------------------------------------------------------\n",
      " |  Static methods defined here:\n",
      " |  \n",
      " |  __new__(*args, **kwargs) from builtins.type\n",
      " |      Create and return a new object.  See help(type) for accurate signature.\n",
      " |  \n",
      " |  ----------------------------------------------------------------------\n",
      " |  Data and other attributes defined here:\n",
      " |  \n",
      " |  __hash__ = None\n",
      "\n"
     ]
    }
   ],
   "source": [
    "help(list)"
   ]
  },
  {
   "cell_type": "code",
   "execution_count": 41,
   "id": "a4863f27",
   "metadata": {},
   "outputs": [
    {
     "name": "stdout",
     "output_type": "stream",
     "text": [
      "['__add__', '__class__', '__contains__', '__delattr__', '__delitem__', '__dir__', '__doc__', '__eq__', '__format__', '__ge__', '__getattribute__', '__getitem__', '__gt__', '__hash__', '__iadd__', '__imul__', '__init__', '__init_subclass__', '__iter__', '__le__', '__len__', '__lt__', '__mul__', '__ne__', '__new__', '__reduce__', '__reduce_ex__', '__repr__', '__reversed__', '__rmul__', '__setattr__', '__setitem__', '__sizeof__', '__str__', '__subclasshook__', 'append', 'clear', 'copy', 'count', 'extend', 'index', 'insert', 'pop', 'remove', 'reverse', 'sort']\n"
     ]
    }
   ],
   "source": [
    "print(dir(list))"
   ]
  },
  {
   "cell_type": "code",
   "execution_count": 42,
   "id": "6946c75a",
   "metadata": {},
   "outputs": [
    {
     "name": "stdout",
     "output_type": "stream",
     "text": [
      "['__add__', '__class__', '__contains__', '__delattr__', '__delitem__', '__dir__', '__doc__', '__eq__', '__format__', '__ge__', '__getattribute__', '__getitem__', '__gt__', '__hash__', '__iadd__', '__imul__', '__init__', '__init_subclass__', '__iter__', '__le__', '__len__', '__lt__', '__mul__', '__ne__', '__new__', '__reduce__', '__reduce_ex__', '__repr__', '__reversed__', '__rmul__', '__setattr__', '__setitem__', '__sizeof__', '__str__', '__subclasshook__', 'append', 'clear', 'copy', 'count', 'extend', 'index', 'insert', 'pop', 'remove', 'reverse', 'sort']\n"
     ]
    }
   ],
   "source": [
    "print(dir(h))"
   ]
  },
  {
   "cell_type": "code",
   "execution_count": 43,
   "id": "79589744",
   "metadata": {},
   "outputs": [],
   "source": [
    "g = [45,78]"
   ]
  },
  {
   "cell_type": "code",
   "execution_count": 44,
   "id": "58f80e83",
   "metadata": {},
   "outputs": [
    {
     "name": "stdout",
     "output_type": "stream",
     "text": [
      "[45, 78] <class 'list'>\n"
     ]
    }
   ],
   "source": [
    "print(g,type(g))"
   ]
  },
  {
   "cell_type": "code",
   "execution_count": 45,
   "id": "3f179610",
   "metadata": {},
   "outputs": [
    {
     "name": "stdout",
     "output_type": "stream",
     "text": [
      "[45, 78]\n",
      "[45, 78, 45]\n"
     ]
    }
   ],
   "source": [
    "print(g)\n",
    "g.append(45)\n",
    "print(g)"
   ]
  },
  {
   "cell_type": "code",
   "execution_count": 46,
   "id": "931a4308",
   "metadata": {},
   "outputs": [
    {
     "name": "stdout",
     "output_type": "stream",
     "text": [
      "[45, 78, 45]\n",
      "[45, 78, 45, 'prasad']\n"
     ]
    }
   ],
   "source": [
    "print(g)\n",
    "g.append('prasad')\n",
    "print(g)"
   ]
  },
  {
   "cell_type": "code",
   "execution_count": 47,
   "id": "d52d5486",
   "metadata": {},
   "outputs": [
    {
     "name": "stdout",
     "output_type": "stream",
     "text": [
      "[45, 78, 45, 'prasad']\n"
     ]
    },
    {
     "ename": "TypeError",
     "evalue": "append() takes exactly one argument (2 given)",
     "output_type": "error",
     "traceback": [
      "\u001b[1;31m---------------------------------------------------------------------------\u001b[0m",
      "\u001b[1;31mTypeError\u001b[0m                                 Traceback (most recent call last)",
      "\u001b[1;32m<ipython-input-47-58741b76a3c2>\u001b[0m in \u001b[0;36m<module>\u001b[1;34m\u001b[0m\n\u001b[0;32m      1\u001b[0m \u001b[0mprint\u001b[0m\u001b[1;33m(\u001b[0m\u001b[0mg\u001b[0m\u001b[1;33m)\u001b[0m\u001b[1;33m\u001b[0m\u001b[1;33m\u001b[0m\u001b[0m\n\u001b[1;32m----> 2\u001b[1;33m \u001b[0mg\u001b[0m\u001b[1;33m.\u001b[0m\u001b[0mappend\u001b[0m\u001b[1;33m(\u001b[0m\u001b[1;36m12\u001b[0m\u001b[1;33m,\u001b[0m\u001b[1;36m45\u001b[0m\u001b[1;33m)\u001b[0m\u001b[1;33m\u001b[0m\u001b[1;33m\u001b[0m\u001b[0m\n\u001b[0m\u001b[0;32m      3\u001b[0m \u001b[0mprint\u001b[0m\u001b[1;33m(\u001b[0m\u001b[0mg\u001b[0m\u001b[1;33m)\u001b[0m\u001b[1;33m\u001b[0m\u001b[1;33m\u001b[0m\u001b[0m\n",
      "\u001b[1;31mTypeError\u001b[0m: append() takes exactly one argument (2 given)"
     ]
    }
   ],
   "source": [
    "print(g)\n",
    "g.append(12,45)\n",
    "print(g)"
   ]
  },
  {
   "cell_type": "code",
   "execution_count": 48,
   "id": "1ba07d51",
   "metadata": {},
   "outputs": [
    {
     "name": "stdout",
     "output_type": "stream",
     "text": [
      "[45, 78, 45, 'prasad']\n",
      "[45, 78, 45, 'prasad', [45, 78, 120]]\n"
     ]
    }
   ],
   "source": [
    "print(g)\n",
    "g.append([45,78,120])\n",
    "print(g)"
   ]
  },
  {
   "cell_type": "code",
   "execution_count": 49,
   "id": "97e65c9a",
   "metadata": {},
   "outputs": [
    {
     "name": "stdout",
     "output_type": "stream",
     "text": [
      "[45, 78, 45, 'prasad', [45, 78, 120]]\n",
      "[45, 78, 45, 'prasad', [45, 78, 120], (12, 45, 'somu')]\n"
     ]
    }
   ],
   "source": [
    "print(g)\n",
    "g.append((12,45,'somu'))\n",
    "print(g)"
   ]
  },
  {
   "cell_type": "code",
   "execution_count": 50,
   "id": "48c2e457",
   "metadata": {},
   "outputs": [
    {
     "name": "stdout",
     "output_type": "stream",
     "text": [
      "[45, 78, 45, 'prasad', [45, 78, 120], (12, 45, 'somu')]\n"
     ]
    },
    {
     "ename": "TypeError",
     "evalue": "insert() takes exactly 2 arguments (0 given)",
     "output_type": "error",
     "traceback": [
      "\u001b[1;31m---------------------------------------------------------------------------\u001b[0m",
      "\u001b[1;31mTypeError\u001b[0m                                 Traceback (most recent call last)",
      "\u001b[1;32m<ipython-input-50-91c9ab3511be>\u001b[0m in \u001b[0;36m<module>\u001b[1;34m\u001b[0m\n\u001b[0;32m      1\u001b[0m \u001b[0mprint\u001b[0m\u001b[1;33m(\u001b[0m\u001b[0mg\u001b[0m\u001b[1;33m)\u001b[0m\u001b[1;33m\u001b[0m\u001b[1;33m\u001b[0m\u001b[0m\n\u001b[1;32m----> 2\u001b[1;33m \u001b[0mg\u001b[0m\u001b[1;33m.\u001b[0m\u001b[0minsert\u001b[0m\u001b[1;33m(\u001b[0m\u001b[1;33m)\u001b[0m\u001b[1;33m\u001b[0m\u001b[1;33m\u001b[0m\u001b[0m\n\u001b[0m\u001b[0;32m      3\u001b[0m \u001b[0mprint\u001b[0m\u001b[1;33m(\u001b[0m\u001b[0mg\u001b[0m\u001b[1;33m)\u001b[0m\u001b[1;33m\u001b[0m\u001b[1;33m\u001b[0m\u001b[0m\n",
      "\u001b[1;31mTypeError\u001b[0m: insert() takes exactly 2 arguments (0 given)"
     ]
    }
   ],
   "source": [
    "print(g)\n",
    "g.insert()\n",
    "print(g)"
   ]
  },
  {
   "cell_type": "code",
   "execution_count": 51,
   "id": "6a9c7f1e",
   "metadata": {},
   "outputs": [
    {
     "name": "stdout",
     "output_type": "stream",
     "text": [
      "[45, 78, 45, 'prasad', [45, 78, 120], (12, 45, 'somu')]\n",
      "['lalitha', 45, 78, 45, 'prasad', [45, 78, 120], (12, 45, 'somu')]\n"
     ]
    }
   ],
   "source": [
    "print(g)\n",
    "g.insert(0,'lalitha')\n",
    "print(g)"
   ]
  },
  {
   "cell_type": "code",
   "execution_count": 52,
   "id": "839cb2a5",
   "metadata": {},
   "outputs": [
    {
     "name": "stdout",
     "output_type": "stream",
     "text": [
      "['lalitha', 45, 78, 45, 'prasad', [45, 78, 120], (12, 45, 'somu')]\n",
      "['lalitha', 45, 78, 45, 'prasad', 'somu', [45, 78, 120], (12, 45, 'somu')]\n"
     ]
    }
   ],
   "source": [
    "print(g)\n",
    "g.insert(5,'somu')\n",
    "print(g)"
   ]
  },
  {
   "cell_type": "code",
   "execution_count": 53,
   "id": "d056c667",
   "metadata": {},
   "outputs": [
    {
     "name": "stdout",
     "output_type": "stream",
     "text": [
      "8\n"
     ]
    }
   ],
   "source": [
    "print(len(g))"
   ]
  },
  {
   "cell_type": "code",
   "execution_count": 54,
   "id": "423b0cc5",
   "metadata": {},
   "outputs": [
    {
     "name": "stdout",
     "output_type": "stream",
     "text": [
      "['lalitha', 45, 78, 45, 'prasad', 'somu', [45, 78, 120], (12, 45, 'somu')]\n",
      "['lalitha', [12, 78], 45, 78, 45, 'prasad', 'somu', [45, 78, 120], (12, 45, 'somu')]\n"
     ]
    }
   ],
   "source": [
    "print(g)\n",
    "g.insert(1,[12,78])\n",
    "print(g)"
   ]
  },
  {
   "cell_type": "code",
   "execution_count": 55,
   "id": "6cd4ab5d",
   "metadata": {},
   "outputs": [
    {
     "name": "stdout",
     "output_type": "stream",
     "text": [
      "['lalitha', [12, 78], 45, 78, 45, 'prasad', 'somu', [45, 78, 120], (12, 45, 'somu')]\n"
     ]
    },
    {
     "ename": "TypeError",
     "evalue": "'int' object is not iterable",
     "output_type": "error",
     "traceback": [
      "\u001b[1;31m---------------------------------------------------------------------------\u001b[0m",
      "\u001b[1;31mTypeError\u001b[0m                                 Traceback (most recent call last)",
      "\u001b[1;32m<ipython-input-55-532e476e51c2>\u001b[0m in \u001b[0;36m<module>\u001b[1;34m\u001b[0m\n\u001b[0;32m      1\u001b[0m \u001b[0mprint\u001b[0m\u001b[1;33m(\u001b[0m\u001b[0mg\u001b[0m\u001b[1;33m)\u001b[0m\u001b[1;33m\u001b[0m\u001b[1;33m\u001b[0m\u001b[0m\n\u001b[1;32m----> 2\u001b[1;33m \u001b[0mg\u001b[0m\u001b[1;33m.\u001b[0m\u001b[0mextend\u001b[0m\u001b[1;33m(\u001b[0m\u001b[1;36m45\u001b[0m\u001b[1;33m)\u001b[0m\u001b[1;33m\u001b[0m\u001b[1;33m\u001b[0m\u001b[0m\n\u001b[0m\u001b[0;32m      3\u001b[0m \u001b[0mprint\u001b[0m\u001b[1;33m(\u001b[0m\u001b[0mg\u001b[0m\u001b[1;33m)\u001b[0m\u001b[1;33m\u001b[0m\u001b[1;33m\u001b[0m\u001b[0m\n",
      "\u001b[1;31mTypeError\u001b[0m: 'int' object is not iterable"
     ]
    }
   ],
   "source": [
    "print(g)\n",
    "g.extend(45)\n",
    "print(g)"
   ]
  },
  {
   "cell_type": "code",
   "execution_count": 56,
   "id": "dd8f83ab",
   "metadata": {},
   "outputs": [
    {
     "name": "stdout",
     "output_type": "stream",
     "text": [
      "['lalitha', [12, 78], 45, 78, 45, 'prasad', 'somu', [45, 78, 120], (12, 45, 'somu')]\n",
      "['lalitha', [12, 78], 45, 78, 45, 'prasad', 'somu', [45, 78, 120], (12, 45, 'somu'), 45, 'uma', '78.02121']\n"
     ]
    }
   ],
   "source": [
    "print(g)\n",
    "g.extend((45,'uma','78.02121'))\n",
    "print(g)"
   ]
  },
  {
   "cell_type": "code",
   "execution_count": null,
   "id": "614ef8c6",
   "metadata": {},
   "outputs": [],
   "source": []
  }
 ],
 "metadata": {
  "kernelspec": {
   "display_name": "Python 3",
   "language": "python",
   "name": "python3"
  },
  "language_info": {
   "codemirror_mode": {
    "name": "ipython",
    "version": 3
   },
   "file_extension": ".py",
   "mimetype": "text/x-python",
   "name": "python",
   "nbconvert_exporter": "python",
   "pygments_lexer": "ipython3",
   "version": "3.7.5"
  }
 },
 "nbformat": 4,
 "nbformat_minor": 5
}
